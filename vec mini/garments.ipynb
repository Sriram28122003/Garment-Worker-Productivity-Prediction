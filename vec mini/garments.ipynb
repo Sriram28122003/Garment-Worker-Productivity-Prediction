{
 "cells": [
  {
   "cell_type": "code",
   "execution_count": 2,
   "id": "6d6db62a-9fe0-423d-8bff-e73308115c72",
   "metadata": {},
   "outputs": [],
   "source": [
    "import pandas as pd\n",
    "import seaborn as sns\n",
    "import matplotlib.pyplot as plt\n",
    "import numpy as np\n",
    "import sklearn\n"
   ]
  },
  {
   "cell_type": "code",
   "execution_count": 3,
   "id": "5433f071-586c-42a3-b915-058d419f0fcd",
   "metadata": {},
   "outputs": [
    {
     "data": {
      "text/html": [
       "<div>\n",
       "<style scoped>\n",
       "    .dataframe tbody tr th:only-of-type {\n",
       "        vertical-align: middle;\n",
       "    }\n",
       "\n",
       "    .dataframe tbody tr th {\n",
       "        vertical-align: top;\n",
       "    }\n",
       "\n",
       "    .dataframe thead th {\n",
       "        text-align: right;\n",
       "    }\n",
       "</style>\n",
       "<table border=\"1\" class=\"dataframe\">\n",
       "  <thead>\n",
       "    <tr style=\"text-align: right;\">\n",
       "      <th></th>\n",
       "      <th>date</th>\n",
       "      <th>quarter</th>\n",
       "      <th>department</th>\n",
       "      <th>day</th>\n",
       "      <th>team</th>\n",
       "      <th>targeted_productivity</th>\n",
       "      <th>smv</th>\n",
       "      <th>wip</th>\n",
       "      <th>over_time</th>\n",
       "      <th>incentive</th>\n",
       "      <th>idle_time</th>\n",
       "      <th>idle_men</th>\n",
       "      <th>no_of_style_change</th>\n",
       "      <th>no_of_workers</th>\n",
       "      <th>actual_productivity</th>\n",
       "    </tr>\n",
       "  </thead>\n",
       "  <tbody>\n",
       "    <tr>\n",
       "      <th>0</th>\n",
       "      <td>1/1/2015</td>\n",
       "      <td>Quarter1</td>\n",
       "      <td>sweing</td>\n",
       "      <td>Thursday</td>\n",
       "      <td>8</td>\n",
       "      <td>0.80</td>\n",
       "      <td>26.16</td>\n",
       "      <td>1108.0</td>\n",
       "      <td>7080</td>\n",
       "      <td>98</td>\n",
       "      <td>0.0</td>\n",
       "      <td>0</td>\n",
       "      <td>0</td>\n",
       "      <td>59.0</td>\n",
       "      <td>0.940725</td>\n",
       "    </tr>\n",
       "    <tr>\n",
       "      <th>1</th>\n",
       "      <td>1/1/2015</td>\n",
       "      <td>Quarter1</td>\n",
       "      <td>finishing</td>\n",
       "      <td>Thursday</td>\n",
       "      <td>1</td>\n",
       "      <td>0.75</td>\n",
       "      <td>3.94</td>\n",
       "      <td>NaN</td>\n",
       "      <td>960</td>\n",
       "      <td>0</td>\n",
       "      <td>0.0</td>\n",
       "      <td>0</td>\n",
       "      <td>0</td>\n",
       "      <td>8.0</td>\n",
       "      <td>0.886500</td>\n",
       "    </tr>\n",
       "    <tr>\n",
       "      <th>2</th>\n",
       "      <td>1/1/2015</td>\n",
       "      <td>Quarter1</td>\n",
       "      <td>sweing</td>\n",
       "      <td>Thursday</td>\n",
       "      <td>11</td>\n",
       "      <td>0.80</td>\n",
       "      <td>11.41</td>\n",
       "      <td>968.0</td>\n",
       "      <td>3660</td>\n",
       "      <td>50</td>\n",
       "      <td>0.0</td>\n",
       "      <td>0</td>\n",
       "      <td>0</td>\n",
       "      <td>30.5</td>\n",
       "      <td>0.800570</td>\n",
       "    </tr>\n",
       "    <tr>\n",
       "      <th>3</th>\n",
       "      <td>1/1/2015</td>\n",
       "      <td>Quarter1</td>\n",
       "      <td>sweing</td>\n",
       "      <td>Thursday</td>\n",
       "      <td>12</td>\n",
       "      <td>0.80</td>\n",
       "      <td>11.41</td>\n",
       "      <td>968.0</td>\n",
       "      <td>3660</td>\n",
       "      <td>50</td>\n",
       "      <td>0.0</td>\n",
       "      <td>0</td>\n",
       "      <td>0</td>\n",
       "      <td>30.5</td>\n",
       "      <td>0.800570</td>\n",
       "    </tr>\n",
       "    <tr>\n",
       "      <th>4</th>\n",
       "      <td>1/1/2015</td>\n",
       "      <td>Quarter1</td>\n",
       "      <td>sweing</td>\n",
       "      <td>Thursday</td>\n",
       "      <td>6</td>\n",
       "      <td>0.80</td>\n",
       "      <td>25.90</td>\n",
       "      <td>1170.0</td>\n",
       "      <td>1920</td>\n",
       "      <td>50</td>\n",
       "      <td>0.0</td>\n",
       "      <td>0</td>\n",
       "      <td>0</td>\n",
       "      <td>56.0</td>\n",
       "      <td>0.800382</td>\n",
       "    </tr>\n",
       "  </tbody>\n",
       "</table>\n",
       "</div>"
      ],
      "text/plain": [
       "       date   quarter  department       day  team  targeted_productivity  \\\n",
       "0  1/1/2015  Quarter1      sweing  Thursday     8                   0.80   \n",
       "1  1/1/2015  Quarter1  finishing   Thursday     1                   0.75   \n",
       "2  1/1/2015  Quarter1      sweing  Thursday    11                   0.80   \n",
       "3  1/1/2015  Quarter1      sweing  Thursday    12                   0.80   \n",
       "4  1/1/2015  Quarter1      sweing  Thursday     6                   0.80   \n",
       "\n",
       "     smv     wip  over_time  incentive  idle_time  idle_men  \\\n",
       "0  26.16  1108.0       7080         98        0.0         0   \n",
       "1   3.94     NaN        960          0        0.0         0   \n",
       "2  11.41   968.0       3660         50        0.0         0   \n",
       "3  11.41   968.0       3660         50        0.0         0   \n",
       "4  25.90  1170.0       1920         50        0.0         0   \n",
       "\n",
       "   no_of_style_change  no_of_workers  actual_productivity  \n",
       "0                   0           59.0             0.940725  \n",
       "1                   0            8.0             0.886500  \n",
       "2                   0           30.5             0.800570  \n",
       "3                   0           30.5             0.800570  \n",
       "4                   0           56.0             0.800382  "
      ]
     },
     "execution_count": 3,
     "metadata": {},
     "output_type": "execute_result"
    }
   ],
   "source": [
    "df = pd.read_csv(r'C:\\Users\\srira\\Downloads\\miniProject\\garments_worker_productivity.csv')\n",
    "df.head()"
   ]
  },
  {
   "cell_type": "code",
   "execution_count": 4,
   "id": "e9fa15a7-d3fb-40aa-b431-8aed5283f203",
   "metadata": {},
   "outputs": [
    {
     "data": {
      "text/plain": [
       "(1197, 15)"
      ]
     },
     "execution_count": 4,
     "metadata": {},
     "output_type": "execute_result"
    }
   ],
   "source": [
    "df.shape\n"
   ]
  },
  {
   "cell_type": "code",
   "execution_count": 5,
   "id": "1d5e8fdf-8af9-4d7f-a361-6443a1bc18c3",
   "metadata": {},
   "outputs": [
    {
     "data": {
      "text/html": [
       "<div>\n",
       "<style scoped>\n",
       "    .dataframe tbody tr th:only-of-type {\n",
       "        vertical-align: middle;\n",
       "    }\n",
       "\n",
       "    .dataframe tbody tr th {\n",
       "        vertical-align: top;\n",
       "    }\n",
       "\n",
       "    .dataframe thead th {\n",
       "        text-align: right;\n",
       "    }\n",
       "</style>\n",
       "<table border=\"1\" class=\"dataframe\">\n",
       "  <thead>\n",
       "    <tr style=\"text-align: right;\">\n",
       "      <th></th>\n",
       "      <th>team</th>\n",
       "      <th>targeted_productivity</th>\n",
       "      <th>smv</th>\n",
       "      <th>wip</th>\n",
       "      <th>over_time</th>\n",
       "      <th>incentive</th>\n",
       "      <th>idle_time</th>\n",
       "      <th>idle_men</th>\n",
       "      <th>no_of_style_change</th>\n",
       "      <th>no_of_workers</th>\n",
       "      <th>actual_productivity</th>\n",
       "    </tr>\n",
       "  </thead>\n",
       "  <tbody>\n",
       "    <tr>\n",
       "      <th>count</th>\n",
       "      <td>1197.000000</td>\n",
       "      <td>1197.000000</td>\n",
       "      <td>1197.000000</td>\n",
       "      <td>691.000000</td>\n",
       "      <td>1197.000000</td>\n",
       "      <td>1197.000000</td>\n",
       "      <td>1197.000000</td>\n",
       "      <td>1197.000000</td>\n",
       "      <td>1197.000000</td>\n",
       "      <td>1197.000000</td>\n",
       "      <td>1197.000000</td>\n",
       "    </tr>\n",
       "    <tr>\n",
       "      <th>mean</th>\n",
       "      <td>6.426901</td>\n",
       "      <td>0.729632</td>\n",
       "      <td>15.062172</td>\n",
       "      <td>1190.465991</td>\n",
       "      <td>4567.460317</td>\n",
       "      <td>38.210526</td>\n",
       "      <td>0.730159</td>\n",
       "      <td>0.369256</td>\n",
       "      <td>0.150376</td>\n",
       "      <td>34.609858</td>\n",
       "      <td>0.735091</td>\n",
       "    </tr>\n",
       "    <tr>\n",
       "      <th>std</th>\n",
       "      <td>3.463963</td>\n",
       "      <td>0.097891</td>\n",
       "      <td>10.943219</td>\n",
       "      <td>1837.455001</td>\n",
       "      <td>3348.823563</td>\n",
       "      <td>160.182643</td>\n",
       "      <td>12.709757</td>\n",
       "      <td>3.268987</td>\n",
       "      <td>0.427848</td>\n",
       "      <td>22.197687</td>\n",
       "      <td>0.174488</td>\n",
       "    </tr>\n",
       "    <tr>\n",
       "      <th>min</th>\n",
       "      <td>1.000000</td>\n",
       "      <td>0.070000</td>\n",
       "      <td>2.900000</td>\n",
       "      <td>7.000000</td>\n",
       "      <td>0.000000</td>\n",
       "      <td>0.000000</td>\n",
       "      <td>0.000000</td>\n",
       "      <td>0.000000</td>\n",
       "      <td>0.000000</td>\n",
       "      <td>2.000000</td>\n",
       "      <td>0.233705</td>\n",
       "    </tr>\n",
       "    <tr>\n",
       "      <th>25%</th>\n",
       "      <td>3.000000</td>\n",
       "      <td>0.700000</td>\n",
       "      <td>3.940000</td>\n",
       "      <td>774.500000</td>\n",
       "      <td>1440.000000</td>\n",
       "      <td>0.000000</td>\n",
       "      <td>0.000000</td>\n",
       "      <td>0.000000</td>\n",
       "      <td>0.000000</td>\n",
       "      <td>9.000000</td>\n",
       "      <td>0.650307</td>\n",
       "    </tr>\n",
       "    <tr>\n",
       "      <th>50%</th>\n",
       "      <td>6.000000</td>\n",
       "      <td>0.750000</td>\n",
       "      <td>15.260000</td>\n",
       "      <td>1039.000000</td>\n",
       "      <td>3960.000000</td>\n",
       "      <td>0.000000</td>\n",
       "      <td>0.000000</td>\n",
       "      <td>0.000000</td>\n",
       "      <td>0.000000</td>\n",
       "      <td>34.000000</td>\n",
       "      <td>0.773333</td>\n",
       "    </tr>\n",
       "    <tr>\n",
       "      <th>75%</th>\n",
       "      <td>9.000000</td>\n",
       "      <td>0.800000</td>\n",
       "      <td>24.260000</td>\n",
       "      <td>1252.500000</td>\n",
       "      <td>6960.000000</td>\n",
       "      <td>50.000000</td>\n",
       "      <td>0.000000</td>\n",
       "      <td>0.000000</td>\n",
       "      <td>0.000000</td>\n",
       "      <td>57.000000</td>\n",
       "      <td>0.850253</td>\n",
       "    </tr>\n",
       "    <tr>\n",
       "      <th>max</th>\n",
       "      <td>12.000000</td>\n",
       "      <td>0.800000</td>\n",
       "      <td>54.560000</td>\n",
       "      <td>23122.000000</td>\n",
       "      <td>25920.000000</td>\n",
       "      <td>3600.000000</td>\n",
       "      <td>300.000000</td>\n",
       "      <td>45.000000</td>\n",
       "      <td>2.000000</td>\n",
       "      <td>89.000000</td>\n",
       "      <td>1.120437</td>\n",
       "    </tr>\n",
       "  </tbody>\n",
       "</table>\n",
       "</div>"
      ],
      "text/plain": [
       "              team  targeted_productivity          smv           wip  \\\n",
       "count  1197.000000            1197.000000  1197.000000    691.000000   \n",
       "mean      6.426901               0.729632    15.062172   1190.465991   \n",
       "std       3.463963               0.097891    10.943219   1837.455001   \n",
       "min       1.000000               0.070000     2.900000      7.000000   \n",
       "25%       3.000000               0.700000     3.940000    774.500000   \n",
       "50%       6.000000               0.750000    15.260000   1039.000000   \n",
       "75%       9.000000               0.800000    24.260000   1252.500000   \n",
       "max      12.000000               0.800000    54.560000  23122.000000   \n",
       "\n",
       "          over_time    incentive    idle_time     idle_men  \\\n",
       "count   1197.000000  1197.000000  1197.000000  1197.000000   \n",
       "mean    4567.460317    38.210526     0.730159     0.369256   \n",
       "std     3348.823563   160.182643    12.709757     3.268987   \n",
       "min        0.000000     0.000000     0.000000     0.000000   \n",
       "25%     1440.000000     0.000000     0.000000     0.000000   \n",
       "50%     3960.000000     0.000000     0.000000     0.000000   \n",
       "75%     6960.000000    50.000000     0.000000     0.000000   \n",
       "max    25920.000000  3600.000000   300.000000    45.000000   \n",
       "\n",
       "       no_of_style_change  no_of_workers  actual_productivity  \n",
       "count         1197.000000    1197.000000          1197.000000  \n",
       "mean             0.150376      34.609858             0.735091  \n",
       "std              0.427848      22.197687             0.174488  \n",
       "min              0.000000       2.000000             0.233705  \n",
       "25%              0.000000       9.000000             0.650307  \n",
       "50%              0.000000      34.000000             0.773333  \n",
       "75%              0.000000      57.000000             0.850253  \n",
       "max              2.000000      89.000000             1.120437  "
      ]
     },
     "execution_count": 5,
     "metadata": {},
     "output_type": "execute_result"
    }
   ],
   "source": [
    "df.describe()"
   ]
  },
  {
   "cell_type": "code",
   "execution_count": 6,
   "id": "158ac4fe-9f99-48ed-ab59-030437d1e8ed",
   "metadata": {},
   "outputs": [],
   "source": [
    "df2 = df.drop(['date'], axis=1)"
   ]
  },
  {
   "cell_type": "code",
   "execution_count": 7,
   "id": "bc918d6a-ebb2-4b10-9790-8f149fbfadb0",
   "metadata": {},
   "outputs": [
    {
     "data": {
      "text/plain": [
       "(1197, 14)"
      ]
     },
     "execution_count": 7,
     "metadata": {},
     "output_type": "execute_result"
    }
   ],
   "source": [
    "df2.shape"
   ]
  },
  {
   "cell_type": "code",
   "execution_count": 8,
   "id": "6e13872a-ae10-4b46-8a7c-4c38d1148715",
   "metadata": {},
   "outputs": [
    {
     "data": {
      "text/plain": [
       "quarter                    0\n",
       "department                 0\n",
       "day                        0\n",
       "team                       0\n",
       "targeted_productivity      0\n",
       "smv                        0\n",
       "wip                      506\n",
       "over_time                  0\n",
       "incentive                  0\n",
       "idle_time                  0\n",
       "idle_men                   0\n",
       "no_of_style_change         0\n",
       "no_of_workers              0\n",
       "actual_productivity        0\n",
       "dtype: int64"
      ]
     },
     "execution_count": 8,
     "metadata": {},
     "output_type": "execute_result"
    }
   ],
   "source": [
    "df2.isnull().sum()\n"
   ]
  },
  {
   "cell_type": "code",
   "execution_count": 9,
   "id": "05268cc1-6678-4dc3-88bb-7139a4c00de5",
   "metadata": {},
   "outputs": [],
   "source": [
    "df3 = df2.fillna({\n",
    "        'wip': 0,\n",
    "        })"
   ]
  },
  {
   "cell_type": "code",
   "execution_count": 10,
   "id": "d0b8dc16-9169-4f4c-b130-5d3d81783942",
   "metadata": {},
   "outputs": [],
   "source": [
    "df4 = df3.drop(['targeted_productivity'], axis=1)"
   ]
  },
  {
   "cell_type": "code",
   "execution_count": 11,
   "id": "3e8bc6fe-fb21-4fa2-af00-aa40ccc3604d",
   "metadata": {},
   "outputs": [
    {
     "data": {
      "text/html": [
       "<div>\n",
       "<style scoped>\n",
       "    .dataframe tbody tr th:only-of-type {\n",
       "        vertical-align: middle;\n",
       "    }\n",
       "\n",
       "    .dataframe tbody tr th {\n",
       "        vertical-align: top;\n",
       "    }\n",
       "\n",
       "    .dataframe thead th {\n",
       "        text-align: right;\n",
       "    }\n",
       "</style>\n",
       "<table border=\"1\" class=\"dataframe\">\n",
       "  <thead>\n",
       "    <tr style=\"text-align: right;\">\n",
       "      <th></th>\n",
       "      <th>quarter</th>\n",
       "      <th>department</th>\n",
       "      <th>day</th>\n",
       "      <th>team</th>\n",
       "      <th>smv</th>\n",
       "      <th>wip</th>\n",
       "      <th>over_time</th>\n",
       "      <th>incentive</th>\n",
       "      <th>idle_time</th>\n",
       "      <th>idle_men</th>\n",
       "      <th>no_of_style_change</th>\n",
       "      <th>no_of_workers</th>\n",
       "      <th>actual_productivity</th>\n",
       "    </tr>\n",
       "  </thead>\n",
       "  <tbody>\n",
       "    <tr>\n",
       "      <th>0</th>\n",
       "      <td>Quarter1</td>\n",
       "      <td>sweing</td>\n",
       "      <td>Thursday</td>\n",
       "      <td>8</td>\n",
       "      <td>26.16</td>\n",
       "      <td>1108.0</td>\n",
       "      <td>7080</td>\n",
       "      <td>98</td>\n",
       "      <td>0.0</td>\n",
       "      <td>0</td>\n",
       "      <td>0</td>\n",
       "      <td>59.0</td>\n",
       "      <td>0.940725</td>\n",
       "    </tr>\n",
       "    <tr>\n",
       "      <th>1</th>\n",
       "      <td>Quarter1</td>\n",
       "      <td>finishing</td>\n",
       "      <td>Thursday</td>\n",
       "      <td>1</td>\n",
       "      <td>3.94</td>\n",
       "      <td>0.0</td>\n",
       "      <td>960</td>\n",
       "      <td>0</td>\n",
       "      <td>0.0</td>\n",
       "      <td>0</td>\n",
       "      <td>0</td>\n",
       "      <td>8.0</td>\n",
       "      <td>0.886500</td>\n",
       "    </tr>\n",
       "    <tr>\n",
       "      <th>2</th>\n",
       "      <td>Quarter1</td>\n",
       "      <td>sweing</td>\n",
       "      <td>Thursday</td>\n",
       "      <td>11</td>\n",
       "      <td>11.41</td>\n",
       "      <td>968.0</td>\n",
       "      <td>3660</td>\n",
       "      <td>50</td>\n",
       "      <td>0.0</td>\n",
       "      <td>0</td>\n",
       "      <td>0</td>\n",
       "      <td>30.5</td>\n",
       "      <td>0.800570</td>\n",
       "    </tr>\n",
       "    <tr>\n",
       "      <th>3</th>\n",
       "      <td>Quarter1</td>\n",
       "      <td>sweing</td>\n",
       "      <td>Thursday</td>\n",
       "      <td>12</td>\n",
       "      <td>11.41</td>\n",
       "      <td>968.0</td>\n",
       "      <td>3660</td>\n",
       "      <td>50</td>\n",
       "      <td>0.0</td>\n",
       "      <td>0</td>\n",
       "      <td>0</td>\n",
       "      <td>30.5</td>\n",
       "      <td>0.800570</td>\n",
       "    </tr>\n",
       "    <tr>\n",
       "      <th>4</th>\n",
       "      <td>Quarter1</td>\n",
       "      <td>sweing</td>\n",
       "      <td>Thursday</td>\n",
       "      <td>6</td>\n",
       "      <td>25.90</td>\n",
       "      <td>1170.0</td>\n",
       "      <td>1920</td>\n",
       "      <td>50</td>\n",
       "      <td>0.0</td>\n",
       "      <td>0</td>\n",
       "      <td>0</td>\n",
       "      <td>56.0</td>\n",
       "      <td>0.800382</td>\n",
       "    </tr>\n",
       "  </tbody>\n",
       "</table>\n",
       "</div>"
      ],
      "text/plain": [
       "    quarter  department       day  team    smv     wip  over_time  incentive  \\\n",
       "0  Quarter1      sweing  Thursday     8  26.16  1108.0       7080         98   \n",
       "1  Quarter1  finishing   Thursday     1   3.94     0.0        960          0   \n",
       "2  Quarter1      sweing  Thursday    11  11.41   968.0       3660         50   \n",
       "3  Quarter1      sweing  Thursday    12  11.41   968.0       3660         50   \n",
       "4  Quarter1      sweing  Thursday     6  25.90  1170.0       1920         50   \n",
       "\n",
       "   idle_time  idle_men  no_of_style_change  no_of_workers  actual_productivity  \n",
       "0        0.0         0                   0           59.0             0.940725  \n",
       "1        0.0         0                   0            8.0             0.886500  \n",
       "2        0.0         0                   0           30.5             0.800570  \n",
       "3        0.0         0                   0           30.5             0.800570  \n",
       "4        0.0         0                   0           56.0             0.800382  "
      ]
     },
     "execution_count": 11,
     "metadata": {},
     "output_type": "execute_result"
    }
   ],
   "source": [
    "df4.head()"
   ]
  },
  {
   "cell_type": "code",
   "execution_count": 12,
   "id": "d3bc53fd-44cd-482c-87d5-849b0648b693",
   "metadata": {},
   "outputs": [
    {
     "data": {
      "text/html": [
       "<div>\n",
       "<style scoped>\n",
       "    .dataframe tbody tr th:only-of-type {\n",
       "        vertical-align: middle;\n",
       "    }\n",
       "\n",
       "    .dataframe tbody tr th {\n",
       "        vertical-align: top;\n",
       "    }\n",
       "\n",
       "    .dataframe thead th {\n",
       "        text-align: right;\n",
       "    }\n",
       "</style>\n",
       "<table border=\"1\" class=\"dataframe\">\n",
       "  <thead>\n",
       "    <tr style=\"text-align: right;\">\n",
       "      <th></th>\n",
       "      <th>quarter</th>\n",
       "      <th>department</th>\n",
       "      <th>day</th>\n",
       "      <th>team_number</th>\n",
       "      <th>time_allocated</th>\n",
       "      <th>unfinished_items</th>\n",
       "      <th>over_time</th>\n",
       "      <th>incentive</th>\n",
       "      <th>idle_time</th>\n",
       "      <th>idle_men</th>\n",
       "      <th>style_change</th>\n",
       "      <th>no_of_workers</th>\n",
       "      <th>actual_productivity</th>\n",
       "    </tr>\n",
       "  </thead>\n",
       "  <tbody>\n",
       "    <tr>\n",
       "      <th>0</th>\n",
       "      <td>Quarter1</td>\n",
       "      <td>sweing</td>\n",
       "      <td>Thursday</td>\n",
       "      <td>8</td>\n",
       "      <td>26.16</td>\n",
       "      <td>1108.0</td>\n",
       "      <td>7080</td>\n",
       "      <td>98</td>\n",
       "      <td>0.0</td>\n",
       "      <td>0</td>\n",
       "      <td>0</td>\n",
       "      <td>59.0</td>\n",
       "      <td>0.940725</td>\n",
       "    </tr>\n",
       "    <tr>\n",
       "      <th>1</th>\n",
       "      <td>Quarter1</td>\n",
       "      <td>finishing</td>\n",
       "      <td>Thursday</td>\n",
       "      <td>1</td>\n",
       "      <td>3.94</td>\n",
       "      <td>0.0</td>\n",
       "      <td>960</td>\n",
       "      <td>0</td>\n",
       "      <td>0.0</td>\n",
       "      <td>0</td>\n",
       "      <td>0</td>\n",
       "      <td>8.0</td>\n",
       "      <td>0.886500</td>\n",
       "    </tr>\n",
       "    <tr>\n",
       "      <th>2</th>\n",
       "      <td>Quarter1</td>\n",
       "      <td>sweing</td>\n",
       "      <td>Thursday</td>\n",
       "      <td>11</td>\n",
       "      <td>11.41</td>\n",
       "      <td>968.0</td>\n",
       "      <td>3660</td>\n",
       "      <td>50</td>\n",
       "      <td>0.0</td>\n",
       "      <td>0</td>\n",
       "      <td>0</td>\n",
       "      <td>30.5</td>\n",
       "      <td>0.800570</td>\n",
       "    </tr>\n",
       "    <tr>\n",
       "      <th>3</th>\n",
       "      <td>Quarter1</td>\n",
       "      <td>sweing</td>\n",
       "      <td>Thursday</td>\n",
       "      <td>12</td>\n",
       "      <td>11.41</td>\n",
       "      <td>968.0</td>\n",
       "      <td>3660</td>\n",
       "      <td>50</td>\n",
       "      <td>0.0</td>\n",
       "      <td>0</td>\n",
       "      <td>0</td>\n",
       "      <td>30.5</td>\n",
       "      <td>0.800570</td>\n",
       "    </tr>\n",
       "    <tr>\n",
       "      <th>4</th>\n",
       "      <td>Quarter1</td>\n",
       "      <td>sweing</td>\n",
       "      <td>Thursday</td>\n",
       "      <td>6</td>\n",
       "      <td>25.90</td>\n",
       "      <td>1170.0</td>\n",
       "      <td>1920</td>\n",
       "      <td>50</td>\n",
       "      <td>0.0</td>\n",
       "      <td>0</td>\n",
       "      <td>0</td>\n",
       "      <td>56.0</td>\n",
       "      <td>0.800382</td>\n",
       "    </tr>\n",
       "    <tr>\n",
       "      <th>...</th>\n",
       "      <td>...</td>\n",
       "      <td>...</td>\n",
       "      <td>...</td>\n",
       "      <td>...</td>\n",
       "      <td>...</td>\n",
       "      <td>...</td>\n",
       "      <td>...</td>\n",
       "      <td>...</td>\n",
       "      <td>...</td>\n",
       "      <td>...</td>\n",
       "      <td>...</td>\n",
       "      <td>...</td>\n",
       "      <td>...</td>\n",
       "    </tr>\n",
       "    <tr>\n",
       "      <th>1192</th>\n",
       "      <td>Quarter2</td>\n",
       "      <td>finishing</td>\n",
       "      <td>Wednesday</td>\n",
       "      <td>10</td>\n",
       "      <td>2.90</td>\n",
       "      <td>0.0</td>\n",
       "      <td>960</td>\n",
       "      <td>0</td>\n",
       "      <td>0.0</td>\n",
       "      <td>0</td>\n",
       "      <td>0</td>\n",
       "      <td>8.0</td>\n",
       "      <td>0.628333</td>\n",
       "    </tr>\n",
       "    <tr>\n",
       "      <th>1193</th>\n",
       "      <td>Quarter2</td>\n",
       "      <td>finishing</td>\n",
       "      <td>Wednesday</td>\n",
       "      <td>8</td>\n",
       "      <td>3.90</td>\n",
       "      <td>0.0</td>\n",
       "      <td>960</td>\n",
       "      <td>0</td>\n",
       "      <td>0.0</td>\n",
       "      <td>0</td>\n",
       "      <td>0</td>\n",
       "      <td>8.0</td>\n",
       "      <td>0.625625</td>\n",
       "    </tr>\n",
       "    <tr>\n",
       "      <th>1194</th>\n",
       "      <td>Quarter2</td>\n",
       "      <td>finishing</td>\n",
       "      <td>Wednesday</td>\n",
       "      <td>7</td>\n",
       "      <td>3.90</td>\n",
       "      <td>0.0</td>\n",
       "      <td>960</td>\n",
       "      <td>0</td>\n",
       "      <td>0.0</td>\n",
       "      <td>0</td>\n",
       "      <td>0</td>\n",
       "      <td>8.0</td>\n",
       "      <td>0.625625</td>\n",
       "    </tr>\n",
       "    <tr>\n",
       "      <th>1195</th>\n",
       "      <td>Quarter2</td>\n",
       "      <td>finishing</td>\n",
       "      <td>Wednesday</td>\n",
       "      <td>9</td>\n",
       "      <td>2.90</td>\n",
       "      <td>0.0</td>\n",
       "      <td>1800</td>\n",
       "      <td>0</td>\n",
       "      <td>0.0</td>\n",
       "      <td>0</td>\n",
       "      <td>0</td>\n",
       "      <td>15.0</td>\n",
       "      <td>0.505889</td>\n",
       "    </tr>\n",
       "    <tr>\n",
       "      <th>1196</th>\n",
       "      <td>Quarter2</td>\n",
       "      <td>finishing</td>\n",
       "      <td>Wednesday</td>\n",
       "      <td>6</td>\n",
       "      <td>2.90</td>\n",
       "      <td>0.0</td>\n",
       "      <td>720</td>\n",
       "      <td>0</td>\n",
       "      <td>0.0</td>\n",
       "      <td>0</td>\n",
       "      <td>0</td>\n",
       "      <td>6.0</td>\n",
       "      <td>0.394722</td>\n",
       "    </tr>\n",
       "  </tbody>\n",
       "</table>\n",
       "<p>1197 rows × 13 columns</p>\n",
       "</div>"
      ],
      "text/plain": [
       "       quarter  department        day  team_number  time_allocated  \\\n",
       "0     Quarter1      sweing   Thursday            8           26.16   \n",
       "1     Quarter1  finishing    Thursday            1            3.94   \n",
       "2     Quarter1      sweing   Thursday           11           11.41   \n",
       "3     Quarter1      sweing   Thursday           12           11.41   \n",
       "4     Quarter1      sweing   Thursday            6           25.90   \n",
       "...        ...         ...        ...          ...             ...   \n",
       "1192  Quarter2   finishing  Wednesday           10            2.90   \n",
       "1193  Quarter2   finishing  Wednesday            8            3.90   \n",
       "1194  Quarter2   finishing  Wednesday            7            3.90   \n",
       "1195  Quarter2   finishing  Wednesday            9            2.90   \n",
       "1196  Quarter2   finishing  Wednesday            6            2.90   \n",
       "\n",
       "      unfinished_items  over_time  incentive  idle_time  idle_men  \\\n",
       "0               1108.0       7080         98        0.0         0   \n",
       "1                  0.0        960          0        0.0         0   \n",
       "2                968.0       3660         50        0.0         0   \n",
       "3                968.0       3660         50        0.0         0   \n",
       "4               1170.0       1920         50        0.0         0   \n",
       "...                ...        ...        ...        ...       ...   \n",
       "1192               0.0        960          0        0.0         0   \n",
       "1193               0.0        960          0        0.0         0   \n",
       "1194               0.0        960          0        0.0         0   \n",
       "1195               0.0       1800          0        0.0         0   \n",
       "1196               0.0        720          0        0.0         0   \n",
       "\n",
       "      style_change  no_of_workers  actual_productivity  \n",
       "0                0           59.0             0.940725  \n",
       "1                0            8.0             0.886500  \n",
       "2                0           30.5             0.800570  \n",
       "3                0           30.5             0.800570  \n",
       "4                0           56.0             0.800382  \n",
       "...            ...            ...                  ...  \n",
       "1192             0            8.0             0.628333  \n",
       "1193             0            8.0             0.625625  \n",
       "1194             0            8.0             0.625625  \n",
       "1195             0           15.0             0.505889  \n",
       "1196             0            6.0             0.394722  \n",
       "\n",
       "[1197 rows x 13 columns]"
      ]
     },
     "execution_count": 12,
     "metadata": {},
     "output_type": "execute_result"
    }
   ],
   "source": [
    "df4=df4.rename(columns={\n",
    "    'team':'team_number',\n",
    "    'smv':'time_allocated',\n",
    "    'wip':'unfinished_items',\n",
    "    'no_of_style_change':'style_change'\n",
    "})\n",
    "df4"
   ]
  },
  {
   "cell_type": "code",
   "execution_count": 13,
   "id": "0704119c-2c5c-4565-8177-908977eda26d",
   "metadata": {},
   "outputs": [
    {
     "data": {
      "text/plain": [
       "quarter                0\n",
       "department             0\n",
       "day                    0\n",
       "team_number            0\n",
       "time_allocated         0\n",
       "unfinished_items       0\n",
       "over_time              0\n",
       "incentive              0\n",
       "idle_time              0\n",
       "idle_men               0\n",
       "style_change           0\n",
       "no_of_workers          0\n",
       "actual_productivity    0\n",
       "dtype: int64"
      ]
     },
     "execution_count": 13,
     "metadata": {},
     "output_type": "execute_result"
    }
   ],
   "source": [
    "df4.isnull().sum()"
   ]
  },
  {
   "cell_type": "code",
   "execution_count": 14,
   "id": "3fa26cf9-b45f-469d-b3f0-8a5602eb7115",
   "metadata": {},
   "outputs": [
    {
     "data": {
      "text/plain": [
       "(array([0, 1, 2, 3, 4, 5, 6, 7, 8, 9]),\n",
       " [Text(0, 0, 'team_number'),\n",
       "  Text(1, 0, 'time_allocated'),\n",
       "  Text(2, 0, 'unfinished_items'),\n",
       "  Text(3, 0, 'over_time'),\n",
       "  Text(4, 0, 'incentive'),\n",
       "  Text(5, 0, 'idle_time'),\n",
       "  Text(6, 0, 'idle_men'),\n",
       "  Text(7, 0, 'style_change'),\n",
       "  Text(8, 0, 'no_of_workers'),\n",
       "  Text(9, 0, 'actual_productivity')])"
      ]
     },
     "execution_count": 14,
     "metadata": {},
     "output_type": "execute_result"
    },
    {
     "data": {
      "image/png": "[encoded data removed]",
      "text/plain": [
       "<Figure size 1000x500 with 1 Axes>"
      ]
     },
     "metadata": {},
     "output_type": "display_data"
    }
   ],
   "source": [
    "plt.figure(figsize=(10,5))\n",
    "p = sns.boxplot(data = df4, orient ='v',width=0.8)\n",
    "plt.xticks(rotation=90)"
   ]
  },
  {
   "cell_type": "code",
   "execution_count": 15,
   "id": "9de510cd-3ce6-4494-85f7-7e853ceca3c2",
   "metadata": {},
   "outputs": [
    {
     "data": {
      "text/plain": [
       "(0.0, 50.0)"
      ]
     },
     "execution_count": 15,
     "metadata": {},
     "output_type": "execute_result"
    }
   ],
   "source": [
    "Q1 = df4.incentive.quantile(0.25)\n",
    "Q3 = df4.incentive.quantile(0.75)\n",
    "Q1, Q3"
   ]
  },
  {
   "cell_type": "code",
   "execution_count": 16,
   "id": "60f94234-7ac3-4972-af49-10ff5134c467",
   "metadata": {},
   "outputs": [
    {
     "data": {
      "text/plain": [
       "50.0"
      ]
     },
     "execution_count": 16,
     "metadata": {},
     "output_type": "execute_result"
    }
   ],
   "source": [
    "IQR = Q3 - Q1\n",
    "IQR"
   ]
  },
  {
   "cell_type": "code",
   "execution_count": 17,
   "id": "cf999150-fe61-443b-acd9-5f67d4a9f632",
   "metadata": {},
   "outputs": [
    {
     "data": {
      "text/plain": [
       "(-75.0, 125.0)"
      ]
     },
     "execution_count": 17,
     "metadata": {},
     "output_type": "execute_result"
    }
   ],
   "source": [
    "lower_limit = Q1 - 1.5*IQR\n",
    "upper_limit = Q3 + 1.5*IQR\n",
    "lower_limit, upper_limit"
   ]
  },
  {
   "cell_type": "code",
   "execution_count": 18,
   "id": "6c797cde-2fe5-4a91-b401-b0e2b9a1a594",
   "metadata": {},
   "outputs": [
    {
     "data": {
      "text/html": [
       "<div>\n",
       "<style scoped>\n",
       "    .dataframe tbody tr th:only-of-type {\n",
       "        vertical-align: middle;\n",
       "    }\n",
       "\n",
       "    .dataframe tbody tr th {\n",
       "        vertical-align: top;\n",
       "    }\n",
       "\n",
       "    .dataframe thead th {\n",
       "        text-align: right;\n",
       "    }\n",
       "</style>\n",
       "<table border=\"1\" class=\"dataframe\">\n",
       "  <thead>\n",
       "    <tr style=\"text-align: right;\">\n",
       "      <th></th>\n",
       "      <th>quarter</th>\n",
       "      <th>department</th>\n",
       "      <th>day</th>\n",
       "      <th>team_number</th>\n",
       "      <th>time_allocated</th>\n",
       "      <th>unfinished_items</th>\n",
       "      <th>over_time</th>\n",
       "      <th>incentive</th>\n",
       "      <th>idle_time</th>\n",
       "      <th>idle_men</th>\n",
       "      <th>style_change</th>\n",
       "      <th>no_of_workers</th>\n",
       "      <th>actual_productivity</th>\n",
       "    </tr>\n",
       "  </thead>\n",
       "  <tbody>\n",
       "    <tr>\n",
       "      <th>730</th>\n",
       "      <td>Quarter2</td>\n",
       "      <td>sweing</td>\n",
       "      <td>Thursday</td>\n",
       "      <td>1</td>\n",
       "      <td>22.52</td>\n",
       "      <td>1397.0</td>\n",
       "      <td>0</td>\n",
       "      <td>138</td>\n",
       "      <td>0.0</td>\n",
       "      <td>0</td>\n",
       "      <td>0</td>\n",
       "      <td>57.0</td>\n",
       "      <td>1.100484</td>\n",
       "    </tr>\n",
       "    <tr>\n",
       "      <th>1128</th>\n",
       "      <td>Quarter2</td>\n",
       "      <td>finishing</td>\n",
       "      <td>Monday</td>\n",
       "      <td>11</td>\n",
       "      <td>2.90</td>\n",
       "      <td>0.0</td>\n",
       "      <td>0</td>\n",
       "      <td>960</td>\n",
       "      <td>0.0</td>\n",
       "      <td>0</td>\n",
       "      <td>0</td>\n",
       "      <td>8.0</td>\n",
       "      <td>0.960625</td>\n",
       "    </tr>\n",
       "    <tr>\n",
       "      <th>1129</th>\n",
       "      <td>Quarter2</td>\n",
       "      <td>finishing</td>\n",
       "      <td>Monday</td>\n",
       "      <td>12</td>\n",
       "      <td>4.60</td>\n",
       "      <td>0.0</td>\n",
       "      <td>0</td>\n",
       "      <td>1080</td>\n",
       "      <td>0.0</td>\n",
       "      <td>0</td>\n",
       "      <td>0</td>\n",
       "      <td>9.0</td>\n",
       "      <td>0.902963</td>\n",
       "    </tr>\n",
       "    <tr>\n",
       "      <th>1130</th>\n",
       "      <td>Quarter2</td>\n",
       "      <td>finishing</td>\n",
       "      <td>Monday</td>\n",
       "      <td>5</td>\n",
       "      <td>3.94</td>\n",
       "      <td>0.0</td>\n",
       "      <td>0</td>\n",
       "      <td>2880</td>\n",
       "      <td>0.0</td>\n",
       "      <td>0</td>\n",
       "      <td>0</td>\n",
       "      <td>12.0</td>\n",
       "      <td>0.864343</td>\n",
       "    </tr>\n",
       "    <tr>\n",
       "      <th>1133</th>\n",
       "      <td>Quarter2</td>\n",
       "      <td>finishing</td>\n",
       "      <td>Monday</td>\n",
       "      <td>9</td>\n",
       "      <td>2.90</td>\n",
       "      <td>0.0</td>\n",
       "      <td>0</td>\n",
       "      <td>3600</td>\n",
       "      <td>0.0</td>\n",
       "      <td>0</td>\n",
       "      <td>0</td>\n",
       "      <td>15.0</td>\n",
       "      <td>0.841000</td>\n",
       "    </tr>\n",
       "    <tr>\n",
       "      <th>1137</th>\n",
       "      <td>Quarter2</td>\n",
       "      <td>finishing</td>\n",
       "      <td>Monday</td>\n",
       "      <td>3</td>\n",
       "      <td>4.60</td>\n",
       "      <td>0.0</td>\n",
       "      <td>0</td>\n",
       "      <td>1440</td>\n",
       "      <td>0.0</td>\n",
       "      <td>0</td>\n",
       "      <td>0</td>\n",
       "      <td>12.0</td>\n",
       "      <td>0.795417</td>\n",
       "    </tr>\n",
       "    <tr>\n",
       "      <th>1138</th>\n",
       "      <td>Quarter2</td>\n",
       "      <td>finishing</td>\n",
       "      <td>Monday</td>\n",
       "      <td>4</td>\n",
       "      <td>3.94</td>\n",
       "      <td>0.0</td>\n",
       "      <td>0</td>\n",
       "      <td>960</td>\n",
       "      <td>0.0</td>\n",
       "      <td>0</td>\n",
       "      <td>0</td>\n",
       "      <td>8.0</td>\n",
       "      <td>0.795388</td>\n",
       "    </tr>\n",
       "    <tr>\n",
       "      <th>1139</th>\n",
       "      <td>Quarter2</td>\n",
       "      <td>finishing</td>\n",
       "      <td>Monday</td>\n",
       "      <td>1</td>\n",
       "      <td>3.94</td>\n",
       "      <td>0.0</td>\n",
       "      <td>0</td>\n",
       "      <td>960</td>\n",
       "      <td>0.0</td>\n",
       "      <td>0</td>\n",
       "      <td>0</td>\n",
       "      <td>8.0</td>\n",
       "      <td>0.794567</td>\n",
       "    </tr>\n",
       "    <tr>\n",
       "      <th>1143</th>\n",
       "      <td>Quarter2</td>\n",
       "      <td>finishing</td>\n",
       "      <td>Monday</td>\n",
       "      <td>2</td>\n",
       "      <td>3.90</td>\n",
       "      <td>0.0</td>\n",
       "      <td>0</td>\n",
       "      <td>1200</td>\n",
       "      <td>0.0</td>\n",
       "      <td>0</td>\n",
       "      <td>0</td>\n",
       "      <td>10.0</td>\n",
       "      <td>0.682500</td>\n",
       "    </tr>\n",
       "    <tr>\n",
       "      <th>1148</th>\n",
       "      <td>Quarter2</td>\n",
       "      <td>finishing</td>\n",
       "      <td>Monday</td>\n",
       "      <td>10</td>\n",
       "      <td>2.90</td>\n",
       "      <td>0.0</td>\n",
       "      <td>0</td>\n",
       "      <td>960</td>\n",
       "      <td>0.0</td>\n",
       "      <td>0</td>\n",
       "      <td>0</td>\n",
       "      <td>8.0</td>\n",
       "      <td>0.477292</td>\n",
       "    </tr>\n",
       "    <tr>\n",
       "      <th>1149</th>\n",
       "      <td>Quarter2</td>\n",
       "      <td>finishing</td>\n",
       "      <td>Monday</td>\n",
       "      <td>8</td>\n",
       "      <td>3.90</td>\n",
       "      <td>0.0</td>\n",
       "      <td>0</td>\n",
       "      <td>960</td>\n",
       "      <td>0.0</td>\n",
       "      <td>0</td>\n",
       "      <td>0</td>\n",
       "      <td>8.0</td>\n",
       "      <td>0.264062</td>\n",
       "    </tr>\n",
       "  </tbody>\n",
       "</table>\n",
       "</div>"
      ],
      "text/plain": [
       "       quarter department       day  team_number  time_allocated  \\\n",
       "730   Quarter2     sweing  Thursday            1           22.52   \n",
       "1128  Quarter2  finishing    Monday           11            2.90   \n",
       "1129  Quarter2  finishing    Monday           12            4.60   \n",
       "1130  Quarter2  finishing    Monday            5            3.94   \n",
       "1133  Quarter2  finishing    Monday            9            2.90   \n",
       "1137  Quarter2  finishing    Monday            3            4.60   \n",
       "1138  Quarter2  finishing    Monday            4            3.94   \n",
       "1139  Quarter2  finishing    Monday            1            3.94   \n",
       "1143  Quarter2  finishing    Monday            2            3.90   \n",
       "1148  Quarter2  finishing    Monday           10            2.90   \n",
       "1149  Quarter2  finishing    Monday            8            3.90   \n",
       "\n",
       "      unfinished_items  over_time  incentive  idle_time  idle_men  \\\n",
       "730             1397.0          0        138        0.0         0   \n",
       "1128               0.0          0        960        0.0         0   \n",
       "1129               0.0          0       1080        0.0         0   \n",
       "1130               0.0          0       2880        0.0         0   \n",
       "1133               0.0          0       3600        0.0         0   \n",
       "1137               0.0          0       1440        0.0         0   \n",
       "1138               0.0          0        960        0.0         0   \n",
       "1139               0.0          0        960        0.0         0   \n",
       "1143               0.0          0       1200        0.0         0   \n",
       "1148               0.0          0        960        0.0         0   \n",
       "1149               0.0          0        960        0.0         0   \n",
       "\n",
       "      style_change  no_of_workers  actual_productivity  \n",
       "730              0           57.0             1.100484  \n",
       "1128             0            8.0             0.960625  \n",
       "1129             0            9.0             0.902963  \n",
       "1130             0           12.0             0.864343  \n",
       "1133             0           15.0             0.841000  \n",
       "1137             0           12.0             0.795417  \n",
       "1138             0            8.0             0.795388  \n",
       "1139             0            8.0             0.794567  \n",
       "1143             0           10.0             0.682500  \n",
       "1148             0            8.0             0.477292  \n",
       "1149             0            8.0             0.264062  "
      ]
     },
     "execution_count": 18,
     "metadata": {},
     "output_type": "execute_result"
    }
   ],
   "source": [
    "df4[(df4.incentive<lower_limit)|(df4.incentive>upper_limit)]\n",
    "\n"
   ]
  },
  {
   "cell_type": "code",
   "execution_count": 19,
   "id": "5295f0b0-6efe-436d-a6cf-6cd7c46aff4a",
   "metadata": {},
   "outputs": [],
   "source": [
    "df5 = df4[(df4.incentive>lower_limit)&(df4.incentive<upper_limit)]\n"
   ]
  },
  {
   "cell_type": "code",
   "execution_count": 20,
   "id": "916c93dc-0f75-4610-abef-12e0556343c8",
   "metadata": {},
   "outputs": [
    {
     "data": {
      "text/plain": [
       "(1186, 13)"
      ]
     },
     "execution_count": 20,
     "metadata": {},
     "output_type": "execute_result"
    }
   ],
   "source": [
    "df5.shape"
   ]
  },
  {
   "cell_type": "code",
   "execution_count": 21,
   "id": "eb3424c2-e99e-4efb-aa22-e05404e35857",
   "metadata": {},
   "outputs": [
    {
     "data": {
      "text/plain": [
       "(0.0, 1084.75)"
      ]
     },
     "execution_count": 21,
     "metadata": {},
     "output_type": "execute_result"
    }
   ],
   "source": [
    "Q1 = df5.unfinished_items.quantile(0.25)\n",
    "Q3 = df5.unfinished_items.quantile(0.75)\n",
    "Q1, Q3"
   ]
  },
  {
   "cell_type": "code",
   "execution_count": 22,
   "id": "31654346-ab12-4781-ace4-7c9686a4f3c8",
   "metadata": {},
   "outputs": [
    {
     "data": {
      "text/plain": [
       "1084.75"
      ]
     },
     "execution_count": 22,
     "metadata": {},
     "output_type": "execute_result"
    }
   ],
   "source": [
    "IQR = Q3 - Q1\n",
    "IQR"
   ]
  },
  {
   "cell_type": "code",
   "execution_count": 23,
   "id": "8aa27bda-e32c-43ca-81e0-be582f8ad106",
   "metadata": {},
   "outputs": [
    {
     "data": {
      "text/plain": [
       "(-1627.125, 2711.875)"
      ]
     },
     "execution_count": 23,
     "metadata": {},
     "output_type": "execute_result"
    }
   ],
   "source": [
    "lower_limit = Q1 - 1.5*IQR\n",
    "upper_limit = Q3 + 1.5*IQR\n",
    "lower_limit, upper_limit"
   ]
  },
  {
   "cell_type": "code",
   "execution_count": 24,
   "id": "79cd9580-8c4d-4592-bd54-40a821fef931",
   "metadata": {},
   "outputs": [
    {
     "data": {
      "text/html": [
       "<div>\n",
       "<style scoped>\n",
       "    .dataframe tbody tr th:only-of-type {\n",
       "        vertical-align: middle;\n",
       "    }\n",
       "\n",
       "    .dataframe tbody tr th {\n",
       "        vertical-align: top;\n",
       "    }\n",
       "\n",
       "    .dataframe thead th {\n",
       "        text-align: right;\n",
       "    }\n",
       "</style>\n",
       "<table border=\"1\" class=\"dataframe\">\n",
       "  <thead>\n",
       "    <tr style=\"text-align: right;\">\n",
       "      <th></th>\n",
       "      <th>quarter</th>\n",
       "      <th>department</th>\n",
       "      <th>day</th>\n",
       "      <th>team_number</th>\n",
       "      <th>time_allocated</th>\n",
       "      <th>unfinished_items</th>\n",
       "      <th>over_time</th>\n",
       "      <th>incentive</th>\n",
       "      <th>idle_time</th>\n",
       "      <th>idle_men</th>\n",
       "      <th>style_change</th>\n",
       "      <th>no_of_workers</th>\n",
       "      <th>actual_productivity</th>\n",
       "    </tr>\n",
       "  </thead>\n",
       "  <tbody>\n",
       "    <tr>\n",
       "      <th>561</th>\n",
       "      <td>Quarter1</td>\n",
       "      <td>sweing</td>\n",
       "      <td>Monday</td>\n",
       "      <td>1</td>\n",
       "      <td>22.94</td>\n",
       "      <td>16882.0</td>\n",
       "      <td>7020</td>\n",
       "      <td>113</td>\n",
       "      <td>0.0</td>\n",
       "      <td>0</td>\n",
       "      <td>0</td>\n",
       "      <td>58.5</td>\n",
       "      <td>1.000602</td>\n",
       "    </tr>\n",
       "    <tr>\n",
       "      <th>563</th>\n",
       "      <td>Quarter1</td>\n",
       "      <td>sweing</td>\n",
       "      <td>Monday</td>\n",
       "      <td>2</td>\n",
       "      <td>22.52</td>\n",
       "      <td>21385.0</td>\n",
       "      <td>7020</td>\n",
       "      <td>88</td>\n",
       "      <td>0.0</td>\n",
       "      <td>0</td>\n",
       "      <td>0</td>\n",
       "      <td>58.5</td>\n",
       "      <td>0.900158</td>\n",
       "    </tr>\n",
       "    <tr>\n",
       "      <th>564</th>\n",
       "      <td>Quarter1</td>\n",
       "      <td>sweing</td>\n",
       "      <td>Monday</td>\n",
       "      <td>3</td>\n",
       "      <td>22.52</td>\n",
       "      <td>21266.0</td>\n",
       "      <td>6840</td>\n",
       "      <td>70</td>\n",
       "      <td>0.0</td>\n",
       "      <td>0</td>\n",
       "      <td>0</td>\n",
       "      <td>57.0</td>\n",
       "      <td>0.900142</td>\n",
       "    </tr>\n",
       "    <tr>\n",
       "      <th>565</th>\n",
       "      <td>Quarter1</td>\n",
       "      <td>sweing</td>\n",
       "      <td>Monday</td>\n",
       "      <td>10</td>\n",
       "      <td>22.52</td>\n",
       "      <td>21540.0</td>\n",
       "      <td>6720</td>\n",
       "      <td>88</td>\n",
       "      <td>0.0</td>\n",
       "      <td>0</td>\n",
       "      <td>0</td>\n",
       "      <td>56.0</td>\n",
       "      <td>0.900130</td>\n",
       "    </tr>\n",
       "    <tr>\n",
       "      <th>568</th>\n",
       "      <td>Quarter1</td>\n",
       "      <td>sweing</td>\n",
       "      <td>Monday</td>\n",
       "      <td>12</td>\n",
       "      <td>15.26</td>\n",
       "      <td>12261.0</td>\n",
       "      <td>3600</td>\n",
       "      <td>63</td>\n",
       "      <td>0.0</td>\n",
       "      <td>0</td>\n",
       "      <td>0</td>\n",
       "      <td>35.0</td>\n",
       "      <td>0.800402</td>\n",
       "    </tr>\n",
       "    <tr>\n",
       "      <th>569</th>\n",
       "      <td>Quarter1</td>\n",
       "      <td>sweing</td>\n",
       "      <td>Monday</td>\n",
       "      <td>4</td>\n",
       "      <td>22.52</td>\n",
       "      <td>23122.0</td>\n",
       "      <td>5940</td>\n",
       "      <td>50</td>\n",
       "      <td>0.0</td>\n",
       "      <td>0</td>\n",
       "      <td>0</td>\n",
       "      <td>56.5</td>\n",
       "      <td>0.800393</td>\n",
       "    </tr>\n",
       "    <tr>\n",
       "      <th>570</th>\n",
       "      <td>Quarter1</td>\n",
       "      <td>sweing</td>\n",
       "      <td>Monday</td>\n",
       "      <td>9</td>\n",
       "      <td>29.12</td>\n",
       "      <td>8992.0</td>\n",
       "      <td>6960</td>\n",
       "      <td>55</td>\n",
       "      <td>0.0</td>\n",
       "      <td>0</td>\n",
       "      <td>0</td>\n",
       "      <td>58.0</td>\n",
       "      <td>0.799963</td>\n",
       "    </tr>\n",
       "    <tr>\n",
       "      <th>572</th>\n",
       "      <td>Quarter1</td>\n",
       "      <td>sweing</td>\n",
       "      <td>Monday</td>\n",
       "      <td>11</td>\n",
       "      <td>20.55</td>\n",
       "      <td>9792.0</td>\n",
       "      <td>6480</td>\n",
       "      <td>60</td>\n",
       "      <td>0.0</td>\n",
       "      <td>0</td>\n",
       "      <td>0</td>\n",
       "      <td>54.0</td>\n",
       "      <td>0.700398</td>\n",
       "    </tr>\n",
       "    <tr>\n",
       "      <th>573</th>\n",
       "      <td>Quarter1</td>\n",
       "      <td>sweing</td>\n",
       "      <td>Monday</td>\n",
       "      <td>6</td>\n",
       "      <td>18.79</td>\n",
       "      <td>2984.0</td>\n",
       "      <td>3960</td>\n",
       "      <td>30</td>\n",
       "      <td>0.0</td>\n",
       "      <td>0</td>\n",
       "      <td>0</td>\n",
       "      <td>33.0</td>\n",
       "      <td>0.700355</td>\n",
       "    </tr>\n",
       "  </tbody>\n",
       "</table>\n",
       "</div>"
      ],
      "text/plain": [
       "      quarter department     day  team_number  time_allocated  \\\n",
       "561  Quarter1     sweing  Monday            1           22.94   \n",
       "563  Quarter1     sweing  Monday            2           22.52   \n",
       "564  Quarter1     sweing  Monday            3           22.52   \n",
       "565  Quarter1     sweing  Monday           10           22.52   \n",
       "568  Quarter1     sweing  Monday           12           15.26   \n",
       "569  Quarter1     sweing  Monday            4           22.52   \n",
       "570  Quarter1     sweing  Monday            9           29.12   \n",
       "572  Quarter1     sweing  Monday           11           20.55   \n",
       "573  Quarter1     sweing  Monday            6           18.79   \n",
       "\n",
       "     unfinished_items  over_time  incentive  idle_time  idle_men  \\\n",
       "561           16882.0       7020        113        0.0         0   \n",
       "563           21385.0       7020         88        0.0         0   \n",
       "564           21266.0       6840         70        0.0         0   \n",
       "565           21540.0       6720         88        0.0         0   \n",
       "568           12261.0       3600         63        0.0         0   \n",
       "569           23122.0       5940         50        0.0         0   \n",
       "570            8992.0       6960         55        0.0         0   \n",
       "572            9792.0       6480         60        0.0         0   \n",
       "573            2984.0       3960         30        0.0         0   \n",
       "\n",
       "     style_change  no_of_workers  actual_productivity  \n",
       "561             0           58.5             1.000602  \n",
       "563             0           58.5             0.900158  \n",
       "564             0           57.0             0.900142  \n",
       "565             0           56.0             0.900130  \n",
       "568             0           35.0             0.800402  \n",
       "569             0           56.5             0.800393  \n",
       "570             0           58.0             0.799963  \n",
       "572             0           54.0             0.700398  \n",
       "573             0           33.0             0.700355  "
      ]
     },
     "execution_count": 24,
     "metadata": {},
     "output_type": "execute_result"
    }
   ],
   "source": [
    "df5[(df5.unfinished_items<lower_limit)|(df5.unfinished_items>upper_limit)]"
   ]
  },
  {
   "cell_type": "code",
   "execution_count": 25,
   "id": "35433f05-c6b2-4c55-8b56-8cca0aab8ee5",
   "metadata": {},
   "outputs": [],
   "source": [
    "df6 = df5[(df5.unfinished_items>lower_limit)&(df5.unfinished_items<upper_limit)]"
   ]
  },
  {
   "cell_type": "code",
   "execution_count": 26,
   "id": "9757a529-fb15-42df-b8cc-5d8840930ad8",
   "metadata": {},
   "outputs": [
    {
     "data": {
      "text/plain": [
       "(1177, 13)"
      ]
     },
     "execution_count": 26,
     "metadata": {},
     "output_type": "execute_result"
    }
   ],
   "source": [
    "df6.shape"
   ]
  },
  {
   "cell_type": "code",
   "execution_count": 27,
   "id": "481bc01d-87d1-4f45-b765-45a6a21278d2",
   "metadata": {},
   "outputs": [
    {
     "data": {
      "text/plain": [
       "(1440.0, 6960.0)"
      ]
     },
     "execution_count": 27,
     "metadata": {},
     "output_type": "execute_result"
    }
   ],
   "source": [
    "Q1 = df6.over_time.quantile(0.25)\n",
    "Q3 = df6.over_time.quantile(0.75)\n",
    "Q1, Q3"
   ]
  },
  {
   "cell_type": "code",
   "execution_count": 28,
   "id": "22903b9e-69fb-4554-b353-6d21538036bd",
   "metadata": {},
   "outputs": [
    {
     "data": {
      "text/plain": [
       "5520.0"
      ]
     },
     "execution_count": 28,
     "metadata": {},
     "output_type": "execute_result"
    }
   ],
   "source": [
    "IQR = Q3 - Q1\n",
    "IQR"
   ]
  },
  {
   "cell_type": "code",
   "execution_count": 29,
   "id": "863f2257-7208-4a9e-a8fa-b1fd4f374a7b",
   "metadata": {},
   "outputs": [
    {
     "data": {
      "text/plain": [
       "(-6840.0, 15240.0)"
      ]
     },
     "execution_count": 29,
     "metadata": {},
     "output_type": "execute_result"
    }
   ],
   "source": [
    "lower_limit = Q1 - 1.5*IQR\n",
    "upper_limit = Q3 + 1.5*IQR\n",
    "lower_limit, upper_limit"
   ]
  },
  {
   "cell_type": "code",
   "execution_count": 30,
   "id": "dd525612-99e6-4490-b581-8515889478e7",
   "metadata": {},
   "outputs": [
    {
     "data": {
      "text/html": [
       "<div>\n",
       "<style scoped>\n",
       "    .dataframe tbody tr th:only-of-type {\n",
       "        vertical-align: middle;\n",
       "    }\n",
       "\n",
       "    .dataframe tbody tr th {\n",
       "        vertical-align: top;\n",
       "    }\n",
       "\n",
       "    .dataframe thead th {\n",
       "        text-align: right;\n",
       "    }\n",
       "</style>\n",
       "<table border=\"1\" class=\"dataframe\">\n",
       "  <thead>\n",
       "    <tr style=\"text-align: right;\">\n",
       "      <th></th>\n",
       "      <th>quarter</th>\n",
       "      <th>department</th>\n",
       "      <th>day</th>\n",
       "      <th>team_number</th>\n",
       "      <th>time_allocated</th>\n",
       "      <th>unfinished_items</th>\n",
       "      <th>over_time</th>\n",
       "      <th>incentive</th>\n",
       "      <th>idle_time</th>\n",
       "      <th>idle_men</th>\n",
       "      <th>style_change</th>\n",
       "      <th>no_of_workers</th>\n",
       "      <th>actual_productivity</th>\n",
       "    </tr>\n",
       "  </thead>\n",
       "  <tbody>\n",
       "    <tr>\n",
       "      <th>146</th>\n",
       "      <td>Quarter2</td>\n",
       "      <td>sweing</td>\n",
       "      <td>Thursday</td>\n",
       "      <td>11</td>\n",
       "      <td>12.52</td>\n",
       "      <td>287.0</td>\n",
       "      <td>25920</td>\n",
       "      <td>38</td>\n",
       "      <td>0.0</td>\n",
       "      <td>0</td>\n",
       "      <td>0</td>\n",
       "      <td>54.0</td>\n",
       "      <td>0.349951</td>\n",
       "    </tr>\n",
       "  </tbody>\n",
       "</table>\n",
       "</div>"
      ],
      "text/plain": [
       "      quarter department       day  team_number  time_allocated  \\\n",
       "146  Quarter2     sweing  Thursday           11           12.52   \n",
       "\n",
       "     unfinished_items  over_time  incentive  idle_time  idle_men  \\\n",
       "146             287.0      25920         38        0.0         0   \n",
       "\n",
       "     style_change  no_of_workers  actual_productivity  \n",
       "146             0           54.0             0.349951  "
      ]
     },
     "execution_count": 30,
     "metadata": {},
     "output_type": "execute_result"
    }
   ],
   "source": [
    "df6[(df6.over_time<lower_limit)|(df6.over_time>upper_limit)]"
   ]
  },
  {
   "cell_type": "code",
   "execution_count": 31,
   "id": "58a77dff-b542-441e-b2ab-89c84540a58d",
   "metadata": {},
   "outputs": [],
   "source": [
    "df7 = df6[(df6.over_time>lower_limit)&(df6.over_time<upper_limit)]"
   ]
  },
  {
   "cell_type": "code",
   "execution_count": 32,
   "id": "499de1b9-1ee8-4359-b217-16ed4a33f59e",
   "metadata": {},
   "outputs": [
    {
     "data": {
      "text/plain": [
       "(1176, 13)"
      ]
     },
     "execution_count": 32,
     "metadata": {},
     "output_type": "execute_result"
    }
   ],
   "source": [
    "df7.shape"
   ]
  },
  {
   "cell_type": "code",
   "execution_count": 33,
   "id": "ec5b07f5-6d77-4fb0-81ef-f51602bf205d",
   "metadata": {},
   "outputs": [
    {
     "data": {
      "text/plain": [
       "(array([0, 1, 2, 3, 4, 5, 6, 7, 8, 9]),\n",
       " [Text(0, 0, 'team_number'),\n",
       "  Text(1, 0, 'time_allocated'),\n",
       "  Text(2, 0, 'unfinished_items'),\n",
       "  Text(3, 0, 'over_time'),\n",
       "  Text(4, 0, 'incentive'),\n",
       "  Text(5, 0, 'idle_time'),\n",
       "  Text(6, 0, 'idle_men'),\n",
       "  Text(7, 0, 'style_change'),\n",
       "  Text(8, 0, 'no_of_workers'),\n",
       "  Text(9, 0, 'actual_productivity')])"
      ]
     },
     "execution_count": 33,
     "metadata": {},
     "output_type": "execute_result"
    },
    {
     "data": {
      "image/png": "[encoded data removed]",
      "text/plain": [
       "<Figure size 1000x500 with 1 Axes>"
      ]
     },
     "metadata": {},
     "output_type": "display_data"
    }
   ],
   "source": [
    "plt.figure(figsize=(10,5))\n",
    "p = sns.boxplot(data = df6, orient ='v',width=0.8)\n",
    "plt.xticks(rotation=90)"
   ]
  },
  {
   "cell_type": "code",
   "execution_count": 34,
   "id": "8c150fc2-4a03-4e03-93ce-5902ea51520b",
   "metadata": {},
   "outputs": [],
   "source": [
    "from sklearn.preprocessing import LabelEncoder\n",
    "le = LabelEncoder()"
   ]
  },
  {
   "cell_type": "code",
   "execution_count": 35,
   "id": "1ef34626-d0f2-4dd2-9f03-72bc78ca9ad0",
   "metadata": {},
   "outputs": [
    {
     "name": "stderr",
     "output_type": "stream",
     "text": [
      "C:\\Users\\srira\\AppData\\Local\\Temp\\ipykernel_1644\\2128788254.py:2: FutureWarning: Series.__getitem__ treating keys as positions is deprecated. In a future version, integer keys will always be treated as labels (consistent with DataFrame behavior). To access a value by position, use `ser.iloc[pos]`\n",
      "  if df7.dtypes[i]=='object':\n",
      "C:\\Users\\srira\\AppData\\Local\\Temp\\ipykernel_1644\\2128788254.py:3: SettingWithCopyWarning: \n",
      "A value is trying to be set on a copy of a slice from a DataFrame.\n",
      "Try using .loc[row_indexer,col_indexer] = value instead\n",
      "\n",
      "See the caveats in the documentation: https://pandas.pydata.org/pandas-docs/stable/user_guide/indexing.html#returning-a-view-versus-a-copy\n",
      "  df7[df7.columns[i]] = le.fit_transform(df7[df7.columns[i]])\n",
      "C:\\Users\\srira\\AppData\\Local\\Temp\\ipykernel_1644\\2128788254.py:2: FutureWarning: Series.__getitem__ treating keys as positions is deprecated. In a future version, integer keys will always be treated as labels (consistent with DataFrame behavior). To access a value by position, use `ser.iloc[pos]`\n",
      "  if df7.dtypes[i]=='object':\n",
      "C:\\Users\\srira\\AppData\\Local\\Temp\\ipykernel_1644\\2128788254.py:3: SettingWithCopyWarning: \n",
      "A value is trying to be set on a copy of a slice from a DataFrame.\n",
      "Try using .loc[row_indexer,col_indexer] = value instead\n",
      "\n",
      "See the caveats in the documentation: https://pandas.pydata.org/pandas-docs/stable/user_guide/indexing.html#returning-a-view-versus-a-copy\n",
      "  df7[df7.columns[i]] = le.fit_transform(df7[df7.columns[i]])\n",
      "C:\\Users\\srira\\AppData\\Local\\Temp\\ipykernel_1644\\2128788254.py:2: FutureWarning: Series.__getitem__ treating keys as positions is deprecated. In a future version, integer keys will always be treated as labels (consistent with DataFrame behavior). To access a value by position, use `ser.iloc[pos]`\n",
      "  if df7.dtypes[i]=='object':\n",
      "C:\\Users\\srira\\AppData\\Local\\Temp\\ipykernel_1644\\2128788254.py:3: SettingWithCopyWarning: \n",
      "A value is trying to be set on a copy of a slice from a DataFrame.\n",
      "Try using .loc[row_indexer,col_indexer] = value instead\n",
      "\n",
      "See the caveats in the documentation: https://pandas.pydata.org/pandas-docs/stable/user_guide/indexing.html#returning-a-view-versus-a-copy\n",
      "  df7[df7.columns[i]] = le.fit_transform(df7[df7.columns[i]])\n",
      "C:\\Users\\srira\\AppData\\Local\\Temp\\ipykernel_1644\\2128788254.py:2: FutureWarning: Series.__getitem__ treating keys as positions is deprecated. In a future version, integer keys will always be treated as labels (consistent with DataFrame behavior). To access a value by position, use `ser.iloc[pos]`\n",
      "  if df7.dtypes[i]=='object':\n",
      "C:\\Users\\srira\\AppData\\Local\\Temp\\ipykernel_1644\\2128788254.py:2: FutureWarning: Series.__getitem__ treating keys as positions is deprecated. In a future version, integer keys will always be treated as labels (consistent with DataFrame behavior). To access a value by position, use `ser.iloc[pos]`\n",
      "  if df7.dtypes[i]=='object':\n",
      "C:\\Users\\srira\\AppData\\Local\\Temp\\ipykernel_1644\\2128788254.py:2: FutureWarning: Series.__getitem__ treating keys as positions is deprecated. In a future version, integer keys will always be treated as labels (consistent with DataFrame behavior). To access a value by position, use `ser.iloc[pos]`\n",
      "  if df7.dtypes[i]=='object':\n",
      "C:\\Users\\srira\\AppData\\Local\\Temp\\ipykernel_1644\\2128788254.py:2: FutureWarning: Series.__getitem__ treating keys as positions is deprecated. In a future version, integer keys will always be treated as labels (consistent with DataFrame behavior). To access a value by position, use `ser.iloc[pos]`\n",
      "  if df7.dtypes[i]=='object':\n",
      "C:\\Users\\srira\\AppData\\Local\\Temp\\ipykernel_1644\\2128788254.py:2: FutureWarning: Series.__getitem__ treating keys as positions is deprecated. In a future version, integer keys will always be treated as labels (consistent with DataFrame behavior). To access a value by position, use `ser.iloc[pos]`\n",
      "  if df7.dtypes[i]=='object':\n",
      "C:\\Users\\srira\\AppData\\Local\\Temp\\ipykernel_1644\\2128788254.py:2: FutureWarning: Series.__getitem__ treating keys as positions is deprecated. In a future version, integer keys will always be treated as labels (consistent with DataFrame behavior). To access a value by position, use `ser.iloc[pos]`\n",
      "  if df7.dtypes[i]=='object':\n",
      "C:\\Users\\srira\\AppData\\Local\\Temp\\ipykernel_1644\\2128788254.py:2: FutureWarning: Series.__getitem__ treating keys as positions is deprecated. In a future version, integer keys will always be treated as labels (consistent with DataFrame behavior). To access a value by position, use `ser.iloc[pos]`\n",
      "  if df7.dtypes[i]=='object':\n",
      "C:\\Users\\srira\\AppData\\Local\\Temp\\ipykernel_1644\\2128788254.py:2: FutureWarning: Series.__getitem__ treating keys as positions is deprecated. In a future version, integer keys will always be treated as labels (consistent with DataFrame behavior). To access a value by position, use `ser.iloc[pos]`\n",
      "  if df7.dtypes[i]=='object':\n",
      "C:\\Users\\srira\\AppData\\Local\\Temp\\ipykernel_1644\\2128788254.py:2: FutureWarning: Series.__getitem__ treating keys as positions is deprecated. In a future version, integer keys will always be treated as labels (consistent with DataFrame behavior). To access a value by position, use `ser.iloc[pos]`\n",
      "  if df7.dtypes[i]=='object':\n",
      "C:\\Users\\srira\\AppData\\Local\\Temp\\ipykernel_1644\\2128788254.py:2: FutureWarning: Series.__getitem__ treating keys as positions is deprecated. In a future version, integer keys will always be treated as labels (consistent with DataFrame behavior). To access a value by position, use `ser.iloc[pos]`\n",
      "  if df7.dtypes[i]=='object':\n"
     ]
    }
   ],
   "source": [
    "for i in range(0, df7.shape[1]):\n",
    "    if df7.dtypes[i]=='object':\n",
    "        df7[df7.columns[i]] = le.fit_transform(df7[df7.columns[i]])"
   ]
  },
  {
   "cell_type": "code",
   "execution_count": 36,
   "id": "2c4cc065-8589-41ee-8d89-f954e5afec20",
   "metadata": {},
   "outputs": [
    {
     "data": {
      "text/html": [
       "<div>\n",
       "<style scoped>\n",
       "    .dataframe tbody tr th:only-of-type {\n",
       "        vertical-align: middle;\n",
       "    }\n",
       "\n",
       "    .dataframe tbody tr th {\n",
       "        vertical-align: top;\n",
       "    }\n",
       "\n",
       "    .dataframe thead th {\n",
       "        text-align: right;\n",
       "    }\n",
       "</style>\n",
       "<table border=\"1\" class=\"dataframe\">\n",
       "  <thead>\n",
       "    <tr style=\"text-align: right;\">\n",
       "      <th></th>\n",
       "      <th>quarter</th>\n",
       "      <th>department</th>\n",
       "      <th>day</th>\n",
       "      <th>team_number</th>\n",
       "      <th>time_allocated</th>\n",
       "      <th>unfinished_items</th>\n",
       "      <th>over_time</th>\n",
       "      <th>incentive</th>\n",
       "      <th>idle_time</th>\n",
       "      <th>idle_men</th>\n",
       "      <th>style_change</th>\n",
       "      <th>no_of_workers</th>\n",
       "      <th>actual_productivity</th>\n",
       "    </tr>\n",
       "  </thead>\n",
       "  <tbody>\n",
       "    <tr>\n",
       "      <th>0</th>\n",
       "      <td>0</td>\n",
       "      <td>2</td>\n",
       "      <td>3</td>\n",
       "      <td>8</td>\n",
       "      <td>26.16</td>\n",
       "      <td>1108.0</td>\n",
       "      <td>7080</td>\n",
       "      <td>98</td>\n",
       "      <td>0.0</td>\n",
       "      <td>0</td>\n",
       "      <td>0</td>\n",
       "      <td>59.0</td>\n",
       "      <td>0.940725</td>\n",
       "    </tr>\n",
       "    <tr>\n",
       "      <th>1</th>\n",
       "      <td>0</td>\n",
       "      <td>1</td>\n",
       "      <td>3</td>\n",
       "      <td>1</td>\n",
       "      <td>3.94</td>\n",
       "      <td>0.0</td>\n",
       "      <td>960</td>\n",
       "      <td>0</td>\n",
       "      <td>0.0</td>\n",
       "      <td>0</td>\n",
       "      <td>0</td>\n",
       "      <td>8.0</td>\n",
       "      <td>0.886500</td>\n",
       "    </tr>\n",
       "    <tr>\n",
       "      <th>2</th>\n",
       "      <td>0</td>\n",
       "      <td>2</td>\n",
       "      <td>3</td>\n",
       "      <td>11</td>\n",
       "      <td>11.41</td>\n",
       "      <td>968.0</td>\n",
       "      <td>3660</td>\n",
       "      <td>50</td>\n",
       "      <td>0.0</td>\n",
       "      <td>0</td>\n",
       "      <td>0</td>\n",
       "      <td>30.5</td>\n",
       "      <td>0.800570</td>\n",
       "    </tr>\n",
       "    <tr>\n",
       "      <th>3</th>\n",
       "      <td>0</td>\n",
       "      <td>2</td>\n",
       "      <td>3</td>\n",
       "      <td>12</td>\n",
       "      <td>11.41</td>\n",
       "      <td>968.0</td>\n",
       "      <td>3660</td>\n",
       "      <td>50</td>\n",
       "      <td>0.0</td>\n",
       "      <td>0</td>\n",
       "      <td>0</td>\n",
       "      <td>30.5</td>\n",
       "      <td>0.800570</td>\n",
       "    </tr>\n",
       "    <tr>\n",
       "      <th>4</th>\n",
       "      <td>0</td>\n",
       "      <td>2</td>\n",
       "      <td>3</td>\n",
       "      <td>6</td>\n",
       "      <td>25.90</td>\n",
       "      <td>1170.0</td>\n",
       "      <td>1920</td>\n",
       "      <td>50</td>\n",
       "      <td>0.0</td>\n",
       "      <td>0</td>\n",
       "      <td>0</td>\n",
       "      <td>56.0</td>\n",
       "      <td>0.800382</td>\n",
       "    </tr>\n",
       "  </tbody>\n",
       "</table>\n",
       "</div>"
      ],
      "text/plain": [
       "   quarter  department  day  team_number  time_allocated  unfinished_items  \\\n",
       "0        0           2    3            8           26.16            1108.0   \n",
       "1        0           1    3            1            3.94               0.0   \n",
       "2        0           2    3           11           11.41             968.0   \n",
       "3        0           2    3           12           11.41             968.0   \n",
       "4        0           2    3            6           25.90            1170.0   \n",
       "\n",
       "   over_time  incentive  idle_time  idle_men  style_change  no_of_workers  \\\n",
       "0       7080         98        0.0         0             0           59.0   \n",
       "1        960          0        0.0         0             0            8.0   \n",
       "2       3660         50        0.0         0             0           30.5   \n",
       "3       3660         50        0.0         0             0           30.5   \n",
       "4       1920         50        0.0         0             0           56.0   \n",
       "\n",
       "   actual_productivity  \n",
       "0             0.940725  \n",
       "1             0.886500  \n",
       "2             0.800570  \n",
       "3             0.800570  \n",
       "4             0.800382  "
      ]
     },
     "execution_count": 36,
     "metadata": {},
     "output_type": "execute_result"
    }
   ],
   "source": [
    "df7.head()"
   ]
  },
  {
   "cell_type": "code",
   "execution_count": 37,
   "id": "1aa22737-1152-4910-9784-155892066c07",
   "metadata": {},
   "outputs": [],
   "source": [
    "x = df7.drop(['actual_productivity'], axis=1)\n",
    "y = df7.actual_productivity"
   ]
  },
  {
   "cell_type": "code",
   "execution_count": 38,
   "id": "c11d3964-33e7-497a-9b47-4f34fd006a27",
   "metadata": {},
   "outputs": [
    {
     "data": {
      "text/plain": [
       "((1176, 12), (1176,))"
      ]
     },
     "execution_count": 38,
     "metadata": {},
     "output_type": "execute_result"
    }
   ],
   "source": [
    "x.shape, y.shape"
   ]
  },
  {
   "cell_type": "code",
   "execution_count": 39,
   "id": "caee827c-60ec-459e-b93e-f48e2f414e6f",
   "metadata": {},
   "outputs": [
    {
     "data": {
      "text/plain": [
       "0    0.940725\n",
       "1    0.886500\n",
       "2    0.800570\n",
       "3    0.800570\n",
       "4    0.800382\n",
       "Name: actual_productivity, dtype: float64"
      ]
     },
     "execution_count": 39,
     "metadata": {},
     "output_type": "execute_result"
    }
   ],
   "source": [
    "y.head()"
   ]
  },
  {
   "cell_type": "code",
   "execution_count": 40,
   "id": "693dd29d-e66a-4be7-8a2a-d3220bf33024",
   "metadata": {},
   "outputs": [],
   "source": [
    "#Standarization\n",
    "from sklearn.preprocessing import StandardScaler"
   ]
  },
  {
   "cell_type": "code",
   "execution_count": 41,
   "id": "ed7b4ccc-2aea-424f-a167-45b861916f88",
   "metadata": {},
   "outputs": [],
   "source": [
    "scaler = StandardScaler()"
   ]
  },
  {
   "cell_type": "code",
   "execution_count": 42,
   "id": "f7ed28fb-b0e5-4cbe-8ee6-9b279c25c4f4",
   "metadata": {},
   "outputs": [],
   "source": [
    "x.iloc[:,:] = scaler.fit_transform(x.iloc[:,:])"
   ]
  },
  {
   "cell_type": "code",
   "execution_count": 43,
   "id": "4c0f00b7-7365-4f3b-8b45-6ebdff9d0877",
   "metadata": {},
   "outputs": [
    {
     "data": {
      "text/html": [
       "<div>\n",
       "<style scoped>\n",
       "    .dataframe tbody tr th:only-of-type {\n",
       "        vertical-align: middle;\n",
       "    }\n",
       "\n",
       "    .dataframe tbody tr th {\n",
       "        vertical-align: top;\n",
       "    }\n",
       "\n",
       "    .dataframe thead th {\n",
       "        text-align: right;\n",
       "    }\n",
       "</style>\n",
       "<table border=\"1\" class=\"dataframe\">\n",
       "  <thead>\n",
       "    <tr style=\"text-align: right;\">\n",
       "      <th></th>\n",
       "      <th>quarter</th>\n",
       "      <th>department</th>\n",
       "      <th>day</th>\n",
       "      <th>team_number</th>\n",
       "      <th>time_allocated</th>\n",
       "      <th>unfinished_items</th>\n",
       "      <th>over_time</th>\n",
       "      <th>incentive</th>\n",
       "      <th>idle_time</th>\n",
       "      <th>idle_men</th>\n",
       "      <th>style_change</th>\n",
       "      <th>no_of_workers</th>\n",
       "    </tr>\n",
       "  </thead>\n",
       "  <tbody>\n",
       "    <tr>\n",
       "      <th>0</th>\n",
       "      <td>-1.160117</td>\n",
       "      <td>0.780739</td>\n",
       "      <td>0.250366</td>\n",
       "      <td>0.455616</td>\n",
       "      <td>1.008608</td>\n",
       "      <td>0.926217</td>\n",
       "      <td>0.760786</td>\n",
       "      <td>2.413020</td>\n",
       "      <td>-0.057985</td>\n",
       "      <td>-0.114022</td>\n",
       "      <td>-0.355135</td>\n",
       "      <td>1.097504</td>\n",
       "    </tr>\n",
       "    <tr>\n",
       "      <th>1</th>\n",
       "      <td>-1.160117</td>\n",
       "      <td>-0.468444</td>\n",
       "      <td>0.250366</td>\n",
       "      <td>-1.571751</td>\n",
       "      <td>-1.018120</td>\n",
       "      <td>-1.019391</td>\n",
       "      <td>-1.102067</td>\n",
       "      <td>-0.847073</td>\n",
       "      <td>-0.057985</td>\n",
       "      <td>-0.114022</td>\n",
       "      <td>-0.355135</td>\n",
       "      <td>-1.201499</td>\n",
       "    </tr>\n",
       "    <tr>\n",
       "      <th>2</th>\n",
       "      <td>-1.160117</td>\n",
       "      <td>0.780739</td>\n",
       "      <td>0.250366</td>\n",
       "      <td>1.324487</td>\n",
       "      <td>-0.336767</td>\n",
       "      <td>0.680382</td>\n",
       "      <td>-0.280220</td>\n",
       "      <td>0.816240</td>\n",
       "      <td>-0.057985</td>\n",
       "      <td>-0.114022</td>\n",
       "      <td>-0.355135</td>\n",
       "      <td>-0.187233</td>\n",
       "    </tr>\n",
       "    <tr>\n",
       "      <th>3</th>\n",
       "      <td>-1.160117</td>\n",
       "      <td>0.780739</td>\n",
       "      <td>0.250366</td>\n",
       "      <td>1.614110</td>\n",
       "      <td>-0.336767</td>\n",
       "      <td>0.680382</td>\n",
       "      <td>-0.280220</td>\n",
       "      <td>0.816240</td>\n",
       "      <td>-0.057985</td>\n",
       "      <td>-0.114022</td>\n",
       "      <td>-0.355135</td>\n",
       "      <td>-0.187233</td>\n",
       "    </tr>\n",
       "    <tr>\n",
       "      <th>4</th>\n",
       "      <td>-1.160117</td>\n",
       "      <td>0.780739</td>\n",
       "      <td>0.250366</td>\n",
       "      <td>-0.123632</td>\n",
       "      <td>0.984893</td>\n",
       "      <td>1.035087</td>\n",
       "      <td>-0.809855</td>\n",
       "      <td>0.816240</td>\n",
       "      <td>-0.057985</td>\n",
       "      <td>-0.114022</td>\n",
       "      <td>-0.355135</td>\n",
       "      <td>0.962269</td>\n",
       "    </tr>\n",
       "  </tbody>\n",
       "</table>\n",
       "</div>"
      ],
      "text/plain": [
       "    quarter  department       day  team_number  time_allocated  \\\n",
       "0 -1.160117    0.780739  0.250366     0.455616        1.008608   \n",
       "1 -1.160117   -0.468444  0.250366    -1.571751       -1.018120   \n",
       "2 -1.160117    0.780739  0.250366     1.324487       -0.336767   \n",
       "3 -1.160117    0.780739  0.250366     1.614110       -0.336767   \n",
       "4 -1.160117    0.780739  0.250366    -0.123632        0.984893   \n",
       "\n",
       "   unfinished_items  over_time  incentive  idle_time  idle_men  style_change  \\\n",
       "0          0.926217   0.760786   2.413020  -0.057985 -0.114022     -0.355135   \n",
       "1         -1.019391  -1.102067  -0.847073  -0.057985 -0.114022     -0.355135   \n",
       "2          0.680382  -0.280220   0.816240  -0.057985 -0.114022     -0.355135   \n",
       "3          0.680382  -0.280220   0.816240  -0.057985 -0.114022     -0.355135   \n",
       "4          1.035087  -0.809855   0.816240  -0.057985 -0.114022     -0.355135   \n",
       "\n",
       "   no_of_workers  \n",
       "0       1.097504  \n",
       "1      -1.201499  \n",
       "2      -0.187233  \n",
       "3      -0.187233  \n",
       "4       0.962269  "
      ]
     },
     "execution_count": 43,
     "metadata": {},
     "output_type": "execute_result"
    }
   ],
   "source": [
    "x.head()"
   ]
  },
  {
   "cell_type": "code",
   "execution_count": 44,
   "id": "af125026-517b-4ae1-a7ba-c4b41abf08f8",
   "metadata": {},
   "outputs": [],
   "source": [
    "from sklearn.model_selection import train_test_split\n",
    "x_train, x_test, y_train, y_test = train_test_split(x, y, test_size=0.30, random_state=42)"
   ]
  },
  {
   "cell_type": "code",
   "execution_count": 45,
   "id": "da3ca413-ce28-4364-89ab-c0b6224428c1",
   "metadata": {},
   "outputs": [
    {
     "name": "stdout",
     "output_type": "stream",
     "text": [
      "(823, 12)\n",
      "(353, 12)\n",
      "(823,)\n",
      "(353,)\n"
     ]
    }
   ],
   "source": [
    "print(x_train.shape)\n",
    "print(x_test.shape)\n",
    "print(y_train.shape)\n",
    "print(y_test.shape)"
   ]
  },
  {
   "cell_type": "code",
   "execution_count": 46,
   "id": "d4514530-f3a4-4a2b-a05d-d172a9253c4e",
   "metadata": {},
   "outputs": [],
   "source": [
    "from sklearn.metrics import mean_squared_error\n",
    "from sklearn.metrics import mean_absolute_error\n",
    "from math import sqrt\n",
    "from sklearn.metrics import mean_absolute_percentage_error"
   ]
  },
  {
   "cell_type": "code",
   "execution_count": 47,
   "id": "312d1092-5980-4359-b0ed-206536180145",
   "metadata": {},
   "outputs": [
    {
     "name": "stdout",
     "output_type": "stream",
     "text": [
      "MAE  : 0.09889801648754916\n",
      "MSE  : 0.018535367319974336\n",
      "RMSE : 0.13614465586270486\n",
      "MAPE : 0.16747657653644724\n"
     ]
    }
   ],
   "source": [
    "from sklearn.linear_model import LinearRegression\n",
    "linreg = LinearRegression()\n",
    "linreg.fit(x_train,y_train)\n",
    "pred_linreg = linreg.predict(x_test)\n",
    "print(\"MAE  :\", mean_absolute_error(y_test, pred_linreg))\n",
    "print(\"MSE  :\", mean_squared_error(y_test, pred_linreg))\n",
    "print(\"RMSE :\",sqrt(mean_squared_error(y_test, pred_linreg)))\n",
    "print(\"MAPE :\",mean_absolute_percentage_error(y_test, pred_linreg))"
   ]
  },
  {
   "cell_type": "code",
   "execution_count": 48,
   "id": "955c0bc4-a509-4965-8ae7-cd0247ac45a6",
   "metadata": {},
   "outputs": [
    {
     "name": "stdout",
     "output_type": "stream",
     "text": [
      "MAE  : 0.09461994102266287\n",
      "MSE  : 0.017693060885064893\n",
      "RMSE : 0.13301526560912058\n",
      "MAPE : 0.1601878271654436\n"
     ]
    }
   ],
   "source": [
    "from sklearn.neighbors import KNeighborsRegressor\n",
    "knn = KNeighborsRegressor()\n",
    "knn.fit(x_train,y_train)\n",
    "pred_knn = knn.predict(x_test)\n",
    "print(\"MAE  :\", mean_absolute_error(y_test, pred_knn))\n",
    "print(\"MSE  :\", mean_squared_error(y_test, pred_knn))\n",
    "print(\"RMSE :\",sqrt(mean_squared_error(y_test, pred_knn)))\n",
    "print(\"MAPE :\",mean_absolute_percentage_error(y_test, pred_knn))"
   ]
  },
  {
   "cell_type": "code",
   "execution_count": 49,
   "id": "203899c4-be78-438b-9416-02cb8295d3aa",
   "metadata": {},
   "outputs": [
    {
     "name": "stdout",
     "output_type": "stream",
     "text": [
      "MAE  : 0.09420946132959857\n",
      "MSE  : 0.016124580860510405\n",
      "RMSE : 0.1269826006211497\n",
      "MAPE : 0.15790384789736983\n"
     ]
    }
   ],
   "source": [
    "from sklearn.svm import SVR\n",
    "svr = SVR()\n",
    "svr.fit(x_train,y_train)\n",
    "pred_svr = svr.predict(x_test)\n",
    "print(\"MAE  :\", mean_absolute_error(y_test, pred_svr))\n",
    "print(\"MSE  :\", mean_squared_error(y_test, pred_svr))\n",
    "print(\"RMSE :\",sqrt(mean_squared_error(y_test, pred_svr)))\n",
    "print(\"MAPE :\",mean_absolute_percentage_error(y_test, pred_svr))\n"
   ]
  },
  {
   "cell_type": "code",
   "execution_count": 50,
   "id": "1a97e52f-1308-41ae-b1ba-5ebdcd9c332d",
   "metadata": {},
   "outputs": [
    {
     "name": "stdout",
     "output_type": "stream",
     "text": [
      "MAE  : 0.10406820884560908\n",
      "MSE  : 0.02984153719681768\n",
      "RMSE : 0.1727470323820866\n",
      "MAPE : 0.17488306226856676\n"
     ]
    }
   ],
   "source": [
    "from sklearn.tree import DecisionTreeRegressor\n",
    "dt = DecisionTreeRegressor(random_state=42)\n",
    "dt.fit(x_train,y_train)\n",
    "pred_dt = dt.predict(x_test)\n",
    "print(\"MAE  :\", mean_absolute_error(y_test, pred_dt))\n",
    "print(\"MSE  :\", mean_squared_error(y_test, pred_dt))\n",
    "print(\"RMSE :\",sqrt(mean_squared_error(y_test, pred_dt)))\n",
    "print(\"MAPE :\",mean_absolute_percentage_error(y_test, pred_dt))"
   ]
  },
  {
   "cell_type": "code",
   "execution_count": 51,
   "id": "38a10182-76fc-4e48-9619-058794169ee3",
   "metadata": {},
   "outputs": [
    {
     "name": "stdout",
     "output_type": "stream",
     "text": [
      "MAE  : 0.08366785595438364\n",
      "MSE  : 0.015441874867015823\n",
      "RMSE : 0.12426534057015183\n",
      "MAPE : 0.14067390864389964\n"
     ]
    }
   ],
   "source": [
    "from sklearn.ensemble import RandomForestRegressor\n",
    "randf = RandomForestRegressor(random_state=42)\n",
    "randf.fit(x_train,y_train)\n",
    "pred_randf = randf.predict(x_test)\n",
    "print(\"MAE  :\", mean_absolute_error(y_test, pred_randf))\n",
    "print(\"MSE  :\", mean_squared_error(y_test, pred_randf))\n",
    "print(\"RMSE :\",sqrt(mean_squared_error(y_test, pred_randf)))\n",
    "print(\"MAPE :\",mean_absolute_percentage_error(y_test, pred_randf))"
   ]
  },
  {
   "cell_type": "code",
   "execution_count": 52,
   "id": "28714c6e-ed52-42fb-b923-19760dd2e1ed",
   "metadata": {},
   "outputs": [
    {
     "name": "stdout",
     "output_type": "stream",
     "text": [
      "MAE  : 0.08052610453252707\n",
      "MSE  : 0.013325110632581337\n",
      "RMSE : 0.11543444300806123\n",
      "MAPE : 0.1351165000418134\n"
     ]
    }
   ],
   "source": [
    "from sklearn.ensemble import GradientBoostingRegressor\n",
    "gb = GradientBoostingRegressor(random_state=42)\n",
    "gb.fit(x_train,y_train)\n",
    "pred_gb = gb.predict(x_test)\n",
    "print(\"MAE  :\", mean_absolute_error(y_test, pred_gb))\n",
    "print(\"MSE  :\", mean_squared_error(y_test, pred_gb)) \n",
    "print(\"RMSE :\",sqrt(mean_squared_error(y_test, pred_gb)))\n",
    "print(\"MAPE :\",mean_absolute_percentage_error(y_test, pred_gb))"
   ]
  },
  {
   "cell_type": "code",
   "execution_count": 53,
   "id": "5c6f0871-7fa0-4f88-9cc4-be62ec0268fa",
   "metadata": {},
   "outputs": [
    {
     "name": "stdout",
     "output_type": "stream",
     "text": [
      "MAE  : 0.09914994225330438\n",
      "MSE  : 0.01804214472829372\n",
      "RMSE : 0.1343210509499301\n",
      "MAPE : 0.15873014712450173\n"
     ]
    }
   ],
   "source": [
    "from sklearn.ensemble import AdaBoostRegressor\n",
    "adab = AdaBoostRegressor(random_state=42)\n",
    "adab.fit(x_train,y_train)\n",
    "pred_adab = adab.predict(x_test)\n",
    "print(\"MAE  :\", mean_absolute_error(y_test, pred_adab))\n",
    "print(\"MSE  :\", mean_squared_error(y_test, pred_adab)) \n",
    "print(\"RMSE :\",sqrt(mean_squared_error(y_test, pred_adab)))\n",
    "print(\"MAPE :\",mean_absolute_percentage_error(y_test, pred_adab))"
   ]
  },
  {
   "cell_type": "code",
   "execution_count": 54,
   "id": "9accbce8-0679-4a67-b4b5-40caf0e11fdd",
   "metadata": {},
   "outputs": [
    {
     "name": "stdout",
     "output_type": "stream",
     "text": [
      "MAE  : 0.0889760853906732\n",
      "MSE  : 0.01729979938858328\n",
      "RMSE : 0.13152870176726933\n",
      "MAPE : 0.14570268332051675\n"
     ]
    }
   ],
   "source": [
    "import xgboost\n",
    "from xgboost import XGBRegressor\n",
    "xgb = XGBRegressor()\n",
    "xgb.fit(x_train, y_train)\n",
    "pred_xgb = xgb.predict(x_test)\n",
    "print(\"MAE  :\", mean_absolute_error(y_test, pred_xgb))\n",
    "print(\"MSE  :\", mean_squared_error(y_test, pred_xgb)) \n",
    "print(\"RMSE :\",sqrt(mean_squared_error(y_test, pred_xgb)))\n",
    "print(\"MAPE :\",mean_absolute_percentage_error(y_test, pred_xgb))"
   ]
  },
  {
   "cell_type": "code",
   "execution_count": 55,
   "id": "cee77730-39db-434c-8e91-1ccaee81e95b",
   "metadata": {},
   "outputs": [],
   "source": [
    "import joblib as jb"
   ]
  },
  {
   "cell_type": "code",
   "execution_count": 56,
   "id": "da1e45ef-bc2e-49a9-9323-94bf09d8833d",
   "metadata": {},
   "outputs": [
    {
     "data": {
      "text/plain": [
       "['xgb']"
      ]
     },
     "execution_count": 56,
     "metadata": {},
     "output_type": "execute_result"
    }
   ],
   "source": [
    "#Saving models using Joblib\n",
    "jb.dump(linreg,'linReg')\n",
    "jb.dump(knn,'knn')\n",
    "jb.dump(svr,'svr')\n",
    "jb.dump(dt,'dt')\n",
    "jb.dump(randf,'randf')\n",
    "jb.dump(gb,'gb')\n",
    "jb.dump(adab,'adab')\n",
    "jb.dump(xgb,'xgb')"
   ]
  },
  {
   "cell_type": "code",
   "execution_count": 57,
   "id": "2f885fb3-787b-4495-b206-3a9f5c32ad2c",
   "metadata": {},
   "outputs": [],
   "source": [
    "#Loading those saved models\n",
    "import joblib as jb\n",
    "linreg_default =  jb.load('linReg')\n",
    "knn_default = jb.load('knn')\n",
    "svr_default = jb.load('svr')\n",
    "dt_default =  jb.load('dt')\n",
    "randf_default =  jb.load('randf')\n",
    "gb_default =  jb.load('gb')\n",
    "adab_default =  jb.load('adab')\n",
    "xgb_default =  jb.load('xgb')"
   ]
  },
  {
   "cell_type": "code",
   "execution_count": 58,
   "id": "ce21f515-106a-4801-bc08-bef91c1de92e",
   "metadata": {},
   "outputs": [
    {
     "data": {
      "text/html": [
       "<div>\n",
       "<style scoped>\n",
       "    .dataframe tbody tr th:only-of-type {\n",
       "        vertical-align: middle;\n",
       "    }\n",
       "\n",
       "    .dataframe tbody tr th {\n",
       "        vertical-align: top;\n",
       "    }\n",
       "\n",
       "    .dataframe thead th {\n",
       "        text-align: right;\n",
       "    }\n",
       "</style>\n",
       "<table border=\"1\" class=\"dataframe\">\n",
       "  <thead>\n",
       "    <tr style=\"text-align: right;\">\n",
       "      <th></th>\n",
       "      <th>Algorithm</th>\n",
       "      <th>MSE</th>\n",
       "      <th>RMSE</th>\n",
       "      <th>MAE</th>\n",
       "      <th>MAPE</th>\n",
       "    </tr>\n",
       "  </thead>\n",
       "  <tbody>\n",
       "    <tr>\n",
       "      <th>0</th>\n",
       "      <td>Linear Regression</td>\n",
       "      <td>0.017</td>\n",
       "      <td>0.131</td>\n",
       "      <td>0.091</td>\n",
       "      <td>15.30</td>\n",
       "    </tr>\n",
       "    <tr>\n",
       "      <th>1</th>\n",
       "      <td>K Nearest Neighbors</td>\n",
       "      <td>0.015</td>\n",
       "      <td>0.123</td>\n",
       "      <td>0.079</td>\n",
       "      <td>13.65</td>\n",
       "    </tr>\n",
       "    <tr>\n",
       "      <th>2</th>\n",
       "      <td>Support Vector Machine</td>\n",
       "      <td>0.014</td>\n",
       "      <td>0.121</td>\n",
       "      <td>0.084</td>\n",
       "      <td>14.43</td>\n",
       "    </tr>\n",
       "    <tr>\n",
       "      <th>3</th>\n",
       "      <td>Decision Tree</td>\n",
       "      <td>0.022</td>\n",
       "      <td>0.148</td>\n",
       "      <td>0.083</td>\n",
       "      <td>13.78</td>\n",
       "    </tr>\n",
       "    <tr>\n",
       "      <th>4</th>\n",
       "      <td>Random Forest</td>\n",
       "      <td>0.013</td>\n",
       "      <td>0.116</td>\n",
       "      <td>0.072</td>\n",
       "      <td>12.02</td>\n",
       "    </tr>\n",
       "    <tr>\n",
       "      <th>5</th>\n",
       "      <td>Gradient Boost</td>\n",
       "      <td>0.012</td>\n",
       "      <td>0.112</td>\n",
       "      <td>0.075</td>\n",
       "      <td>12.67</td>\n",
       "    </tr>\n",
       "    <tr>\n",
       "      <th>6</th>\n",
       "      <td>Adaboost</td>\n",
       "      <td>0.017</td>\n",
       "      <td>0.131</td>\n",
       "      <td>0.094</td>\n",
       "      <td>15.01</td>\n",
       "    </tr>\n",
       "    <tr>\n",
       "      <th>7</th>\n",
       "      <td>XGBoost</td>\n",
       "      <td>0.015</td>\n",
       "      <td>0.123</td>\n",
       "      <td>0.078</td>\n",
       "      <td>12.62</td>\n",
       "    </tr>\n",
       "  </tbody>\n",
       "</table>\n",
       "</div>"
      ],
      "text/plain": [
       "                Algorithm    MSE   RMSE    MAE   MAPE\n",
       "0       Linear Regression  0.017  0.131  0.091  15.30\n",
       "1     K Nearest Neighbors  0.015  0.123  0.079  13.65\n",
       "2  Support Vector Machine  0.014  0.121  0.084  14.43\n",
       "3           Decision Tree  0.022  0.148  0.083  13.78\n",
       "4           Random Forest  0.013  0.116  0.072  12.02\n",
       "5          Gradient Boost  0.012  0.112  0.075  12.67\n",
       "6                Adaboost  0.017  0.131  0.094  15.01\n",
       "7                 XGBoost  0.015  0.123  0.078  12.62"
      ]
     },
     "execution_count": 58,
     "metadata": {},
     "output_type": "execute_result"
    }
   ],
   "source": [
    "d = {'Algorithm': ['Linear Regression','K Nearest Neighbors', 'Support Vector Machine','Decision Tree',\n",
    "                   'Random Forest','Gradient Boost','Adaboost','XGBoost'],\n",
    "     'MSE' : [0.017,0.015,0.014,0.022,0.013, 0.012,0.017,0.015],\n",
    "     'RMSE': [0.131, 0.123, 0.121,0.148,0.116,0.112,0.131,0.123],\n",
    "     'MAE' : [0.091,0.079,0.084,0.083,0.072,0.075,0.094,0.078],\n",
    "     'MAPE': [15.30,13.65,14.43,13.78,12.02,12.67,15.01,12.62]\n",
    "    }\n",
    "df_accuracy = pd.DataFrame(data=d)\n",
    "df_accuracy"
   ]
  },
  {
   "cell_type": "code",
   "execution_count": 59,
   "id": "1772ee17-be1f-4965-99c0-c4d95b60e520",
   "metadata": {},
   "outputs": [],
   "source": [
    "import shap"
   ]
  },
  {
   "cell_type": "code",
   "execution_count": 60,
   "id": "e2550919-b07c-4697-8814-17eb27d2a35d",
   "metadata": {},
   "outputs": [],
   "source": [
    "# Create object that can calculate shap values\n",
    "explainer = shap.TreeExplainer(randf)\n",
    "# Calculate Shap values\n",
    "shap_values = explainer.shap_values(x_train)"
   ]
  },
  {
   "cell_type": "code",
   "execution_count": 61,
   "id": "4d6330a3-b5f3-41da-898a-7bf434155305",
   "metadata": {},
   "outputs": [
    {
     "data": {
      "image/png": "[encoded data removed]",
      "text/plain": [
       "<Figure size 800x630 with 2 Axes>"
      ]
     },
     "metadata": {},
     "output_type": "display_data"
    }
   ],
   "source": [
    "shap.summary_plot(shap_values, x_train)"
   ]
  },
  {
   "cell_type": "code",
   "execution_count": 62,
   "id": "4206b34c-37e3-4dc8-9cdd-852389a19593",
   "metadata": {},
   "outputs": [
    {
     "name": "stdout",
     "output_type": "stream",
     "text": [
      "[[ 0.00289996  0.0011013  -0.00151864 ...  0.00032938 -0.00077743\n",
      "  -0.02000564]\n",
      " [ 0.00107953  0.00080118 -0.00146752 ...  0.00035726 -0.00034355\n",
      "  -0.0194016 ]\n",
      " [ 0.0019234  -0.00117553  0.00186971 ...  0.00190697 -0.000561\n",
      "  -0.01182943]\n",
      " ...\n",
      " [ 0.01351555 -0.00068578  0.01467398 ...  0.00036089 -0.00025657\n",
      "   0.07831029]\n",
      " [-0.00699838 -0.00919669 -0.01376068 ...  0.00035768 -0.00043395\n",
      "   0.10130167]\n",
      " [ 0.00293606  0.00109989 -0.00253797 ...  0.00065866  0.00178236\n",
      "  -0.03605201]]\n"
     ]
    }
   ],
   "source": [
    "print(shap_values)"
   ]
  },
  {
   "cell_type": "code",
   "execution_count": 63,
   "id": "45cd6c94-cb55-476c-911a-db9858456998",
   "metadata": {},
   "outputs": [
    {
     "name": "stdout",
     "output_type": "stream",
     "text": [
      "0.340971076012901\n",
      "0.3709194603034881\n",
      "0.4266871008920553\n",
      "-0.06102219661687158\n",
      "0.4509608575716667\n",
      "0.5262228597576404\n",
      "0.3585077100741598\n",
      "0.3849019563823515\n"
     ]
    }
   ],
   "source": [
    "score=linreg.score(x_test,y_test)\n",
    "print(score)\n",
    "score=knn.score(x_test,y_test)\n",
    "print(score)\n",
    "score=svr.score(x_test,y_test)\n",
    "print(score)\n",
    "score=dt.score(x_test,y_test)\n",
    "print(score)\n",
    "score=randf.score(x_test,y_test)\n",
    "print(score)\n",
    "score=gb.score(x_test,y_test)\n",
    "print(score)\n",
    "score=adab.score(x_test,y_test)\n",
    "print(score)\n",
    "score=xgb.score(x_test,y_test)\n",
    "print(score)"
   ]
  },
  {
   "cell_type": "code",
   "execution_count": 64,
   "id": "a65f941e-a6b8-4ca9-a5b0-2b8313dbdd81",
   "metadata": {},
   "outputs": [],
   "source": [
    "import pickle\n",
    "pickle.dump(gb,open('productivity4.pkl','wb'))"
   ]
  },
  {
   "cell_type": "code",
   "execution_count": null,
   "id": "3d3264a2-bbe7-4826-98e8-c8edf2dc3d23",
   "metadata": {},
   "outputs": [],
   "source": []
  }
 ],
 "metadata": {
  "kernelspec": {
   "display_name": "Python 3 (ipykernel)",
   "language": "python",
   "name": "python3"
  },
  "language_info": {
   "codemirror_mode": {
    "name": "ipython",
    "version": 3
   },
   "file_extension": ".py",
   "mimetype": "text/x-python",
   "name": "python",
   "nbconvert_exporter": "python",
   "pygments_lexer": "ipython3",
   "version": "3.11.7"
  }
 },
 "nbformat": 4,
 "nbformat_minor": 5
}
